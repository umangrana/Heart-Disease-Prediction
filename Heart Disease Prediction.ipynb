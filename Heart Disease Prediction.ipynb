{
 "cells": [
  {
   "cell_type": "markdown",
   "id": "e13be5ad",
   "metadata": {},
   "source": [
    "# Heart Disease Prediction - Logistic Regression"
   ]
  },
  {
   "cell_type": "markdown",
   "id": "554486cb",
   "metadata": {},
   "source": [
    "__Metadata__"
   ]
  },
  {
   "cell_type": "markdown",
   "id": "fad07497",
   "metadata": {},
   "source": [
    "1. col1: age\n",
    "2. col2: sex\n",
    "3. col3: chest pain type (4 values)\n",
    "4. col4: resting blood pressure\n",
    "5. col5: serum cholestoral in mg/dl\n",
    "6. col6: fasting blood sugar > 120 mg/dl\n",
    "7. col7: resting electrocardiographic results (values 0,1,2)\n",
    "8. col8: maximum heart rate achieved\n",
    "9. col9: exercise induced angina\n",
    "10. col10 & col11: oldpeak = ST depression induced by exercise relative to rest the slope of the peak exercise ST segment\n",
    "11. col12: number of major vessels (0-3) colored by flourosopy\n",
    "12. col13: thal: 0 = normal; 1 = fixed defect; 2 = reversable defect\n",
    "13. col14: Target column"
   ]
  },
  {
   "cell_type": "markdown",
   "id": "683e2dc0",
   "metadata": {},
   "source": [
    "__Importing Required Libraries__"
   ]
  },
  {
   "cell_type": "code",
   "execution_count": 143,
   "id": "acdf5115",
   "metadata": {},
   "outputs": [],
   "source": [
    "import pandas as pd, numpy as np\n",
    "import seaborn as sns, matplotlib.pyplot as plt\n",
    "import sklearn\n",
    "from sklearn.model_selection import train_test_split\n",
    "from sklearn.preprocessing import StandardScaler\n",
    "import statsmodels.api as sm\n",
    "from sklearn.linear_model import LogisticRegression\n",
    "from sklearn.feature_selection import RFE\n",
    "from sklearn import metrics\n",
    "from statsmodels.stats.outliers_influence import variance_inflation_factor\n",
    "import warnings\n",
    "warnings.filterwarnings('ignore')\n",
    "import ast"
   ]
  },
  {
   "cell_type": "markdown",
   "id": "3c960a2e",
   "metadata": {},
   "source": [
    "## Step-1: Data Understanding and Routine check"
   ]
  },
  {
   "cell_type": "code",
   "execution_count": 144,
   "id": "47d73848",
   "metadata": {},
   "outputs": [
    {
     "data": {
      "text/html": [
       "<div>\n",
       "<style scoped>\n",
       "    .dataframe tbody tr th:only-of-type {\n",
       "        vertical-align: middle;\n",
       "    }\n",
       "\n",
       "    .dataframe tbody tr th {\n",
       "        vertical-align: top;\n",
       "    }\n",
       "\n",
       "    .dataframe thead th {\n",
       "        text-align: right;\n",
       "    }\n",
       "</style>\n",
       "<table border=\"1\" class=\"dataframe\">\n",
       "  <thead>\n",
       "    <tr style=\"text-align: right;\">\n",
       "      <th></th>\n",
       "      <th>age</th>\n",
       "      <th>sex</th>\n",
       "      <th>cp</th>\n",
       "      <th>trestbps</th>\n",
       "      <th>chol</th>\n",
       "      <th>fbs</th>\n",
       "      <th>restecg</th>\n",
       "      <th>thalach</th>\n",
       "      <th>exang</th>\n",
       "      <th>oldpeak</th>\n",
       "      <th>slope</th>\n",
       "      <th>ca</th>\n",
       "      <th>thal</th>\n",
       "      <th>target</th>\n",
       "    </tr>\n",
       "  </thead>\n",
       "  <tbody>\n",
       "    <tr>\n",
       "      <th>0</th>\n",
       "      <td>52</td>\n",
       "      <td>1</td>\n",
       "      <td>0</td>\n",
       "      <td>125</td>\n",
       "      <td>212</td>\n",
       "      <td>0</td>\n",
       "      <td>1</td>\n",
       "      <td>168</td>\n",
       "      <td>0</td>\n",
       "      <td>1.0</td>\n",
       "      <td>2</td>\n",
       "      <td>2</td>\n",
       "      <td>3</td>\n",
       "      <td>0</td>\n",
       "    </tr>\n",
       "    <tr>\n",
       "      <th>1</th>\n",
       "      <td>53</td>\n",
       "      <td>1</td>\n",
       "      <td>0</td>\n",
       "      <td>140</td>\n",
       "      <td>203</td>\n",
       "      <td>1</td>\n",
       "      <td>0</td>\n",
       "      <td>155</td>\n",
       "      <td>1</td>\n",
       "      <td>3.1</td>\n",
       "      <td>0</td>\n",
       "      <td>0</td>\n",
       "      <td>3</td>\n",
       "      <td>0</td>\n",
       "    </tr>\n",
       "    <tr>\n",
       "      <th>2</th>\n",
       "      <td>70</td>\n",
       "      <td>1</td>\n",
       "      <td>0</td>\n",
       "      <td>145</td>\n",
       "      <td>174</td>\n",
       "      <td>0</td>\n",
       "      <td>1</td>\n",
       "      <td>125</td>\n",
       "      <td>1</td>\n",
       "      <td>2.6</td>\n",
       "      <td>0</td>\n",
       "      <td>0</td>\n",
       "      <td>3</td>\n",
       "      <td>0</td>\n",
       "    </tr>\n",
       "    <tr>\n",
       "      <th>3</th>\n",
       "      <td>61</td>\n",
       "      <td>1</td>\n",
       "      <td>0</td>\n",
       "      <td>148</td>\n",
       "      <td>203</td>\n",
       "      <td>0</td>\n",
       "      <td>1</td>\n",
       "      <td>161</td>\n",
       "      <td>0</td>\n",
       "      <td>0.0</td>\n",
       "      <td>2</td>\n",
       "      <td>1</td>\n",
       "      <td>3</td>\n",
       "      <td>0</td>\n",
       "    </tr>\n",
       "    <tr>\n",
       "      <th>4</th>\n",
       "      <td>62</td>\n",
       "      <td>0</td>\n",
       "      <td>0</td>\n",
       "      <td>138</td>\n",
       "      <td>294</td>\n",
       "      <td>1</td>\n",
       "      <td>1</td>\n",
       "      <td>106</td>\n",
       "      <td>0</td>\n",
       "      <td>1.9</td>\n",
       "      <td>1</td>\n",
       "      <td>3</td>\n",
       "      <td>2</td>\n",
       "      <td>0</td>\n",
       "    </tr>\n",
       "  </tbody>\n",
       "</table>\n",
       "</div>"
      ],
      "text/plain": [
       "   age  sex  cp  trestbps  chol  fbs  restecg  thalach  exang  oldpeak  slope  \\\n",
       "0   52    1   0       125   212    0        1      168      0      1.0      2   \n",
       "1   53    1   0       140   203    1        0      155      1      3.1      0   \n",
       "2   70    1   0       145   174    0        1      125      1      2.6      0   \n",
       "3   61    1   0       148   203    0        1      161      0      0.0      2   \n",
       "4   62    0   0       138   294    1        1      106      0      1.9      1   \n",
       "\n",
       "   ca  thal  target  \n",
       "0   2     3       0  \n",
       "1   0     3       0  \n",
       "2   0     3       0  \n",
       "3   1     3       0  \n",
       "4   3     2       0  "
      ]
     },
     "execution_count": 144,
     "metadata": {},
     "output_type": "execute_result"
    }
   ],
   "source": [
    "data = pd.read_csv('heart.csv')\n",
    "data.head()"
   ]
  },
  {
   "cell_type": "code",
   "execution_count": 145,
   "id": "0cf8adf9",
   "metadata": {},
   "outputs": [
    {
     "data": {
      "text/plain": [
       "(1025, 14)"
      ]
     },
     "execution_count": 145,
     "metadata": {},
     "output_type": "execute_result"
    }
   ],
   "source": [
    "data.shape"
   ]
  },
  {
   "cell_type": "code",
   "execution_count": 146,
   "id": "580428c7",
   "metadata": {},
   "outputs": [
    {
     "name": "stdout",
     "output_type": "stream",
     "text": [
      "<class 'pandas.core.frame.DataFrame'>\n",
      "RangeIndex: 1025 entries, 0 to 1024\n",
      "Data columns (total 14 columns):\n",
      " #   Column    Non-Null Count  Dtype  \n",
      "---  ------    --------------  -----  \n",
      " 0   age       1025 non-null   int64  \n",
      " 1   sex       1025 non-null   int64  \n",
      " 2   cp        1025 non-null   int64  \n",
      " 3   trestbps  1025 non-null   int64  \n",
      " 4   chol      1025 non-null   int64  \n",
      " 5   fbs       1025 non-null   int64  \n",
      " 6   restecg   1025 non-null   int64  \n",
      " 7   thalach   1025 non-null   int64  \n",
      " 8   exang     1025 non-null   int64  \n",
      " 9   oldpeak   1025 non-null   float64\n",
      " 10  slope     1025 non-null   int64  \n",
      " 11  ca        1025 non-null   int64  \n",
      " 12  thal      1025 non-null   int64  \n",
      " 13  target    1025 non-null   int64  \n",
      "dtypes: float64(1), int64(13)\n",
      "memory usage: 112.2 KB\n"
     ]
    }
   ],
   "source": [
    "data.info()"
   ]
  },
  {
   "cell_type": "markdown",
   "id": "3175a4a0",
   "metadata": {},
   "source": [
    "__Checking Missing values if any__"
   ]
  },
  {
   "cell_type": "code",
   "execution_count": 147,
   "id": "39d69041",
   "metadata": {
    "scrolled": true
   },
   "outputs": [
    {
     "data": {
      "text/plain": [
       "age         0\n",
       "sex         0\n",
       "cp          0\n",
       "trestbps    0\n",
       "chol        0\n",
       "fbs         0\n",
       "restecg     0\n",
       "thalach     0\n",
       "exang       0\n",
       "oldpeak     0\n",
       "slope       0\n",
       "ca          0\n",
       "thal        0\n",
       "target      0\n",
       "dtype: int64"
      ]
     },
     "execution_count": 147,
     "metadata": {},
     "output_type": "execute_result"
    }
   ],
   "source": [
    "data.isnull().sum()"
   ]
  },
  {
   "cell_type": "markdown",
   "id": "af3c4aea",
   "metadata": {},
   "source": [
    "No Missing values"
   ]
  },
  {
   "cell_type": "markdown",
   "id": "1dd2fe6e",
   "metadata": {},
   "source": [
    "__Statistical Summary__"
   ]
  },
  {
   "cell_type": "code",
   "execution_count": 148,
   "id": "bb7389cb",
   "metadata": {},
   "outputs": [
    {
     "data": {
      "text/html": [
       "<div>\n",
       "<style scoped>\n",
       "    .dataframe tbody tr th:only-of-type {\n",
       "        vertical-align: middle;\n",
       "    }\n",
       "\n",
       "    .dataframe tbody tr th {\n",
       "        vertical-align: top;\n",
       "    }\n",
       "\n",
       "    .dataframe thead th {\n",
       "        text-align: right;\n",
       "    }\n",
       "</style>\n",
       "<table border=\"1\" class=\"dataframe\">\n",
       "  <thead>\n",
       "    <tr style=\"text-align: right;\">\n",
       "      <th></th>\n",
       "      <th>age</th>\n",
       "      <th>sex</th>\n",
       "      <th>cp</th>\n",
       "      <th>trestbps</th>\n",
       "      <th>chol</th>\n",
       "      <th>fbs</th>\n",
       "      <th>restecg</th>\n",
       "      <th>thalach</th>\n",
       "      <th>exang</th>\n",
       "      <th>oldpeak</th>\n",
       "      <th>slope</th>\n",
       "      <th>ca</th>\n",
       "      <th>thal</th>\n",
       "      <th>target</th>\n",
       "    </tr>\n",
       "  </thead>\n",
       "  <tbody>\n",
       "    <tr>\n",
       "      <th>count</th>\n",
       "      <td>1025.000000</td>\n",
       "      <td>1025.000000</td>\n",
       "      <td>1025.000000</td>\n",
       "      <td>1025.000000</td>\n",
       "      <td>1025.00000</td>\n",
       "      <td>1025.000000</td>\n",
       "      <td>1025.000000</td>\n",
       "      <td>1025.000000</td>\n",
       "      <td>1025.000000</td>\n",
       "      <td>1025.000000</td>\n",
       "      <td>1025.000000</td>\n",
       "      <td>1025.000000</td>\n",
       "      <td>1025.000000</td>\n",
       "      <td>1025.000000</td>\n",
       "    </tr>\n",
       "    <tr>\n",
       "      <th>mean</th>\n",
       "      <td>54.434146</td>\n",
       "      <td>0.695610</td>\n",
       "      <td>0.942439</td>\n",
       "      <td>131.611707</td>\n",
       "      <td>246.00000</td>\n",
       "      <td>0.149268</td>\n",
       "      <td>0.529756</td>\n",
       "      <td>149.114146</td>\n",
       "      <td>0.336585</td>\n",
       "      <td>1.071512</td>\n",
       "      <td>1.385366</td>\n",
       "      <td>0.754146</td>\n",
       "      <td>2.323902</td>\n",
       "      <td>0.513171</td>\n",
       "    </tr>\n",
       "    <tr>\n",
       "      <th>std</th>\n",
       "      <td>9.072290</td>\n",
       "      <td>0.460373</td>\n",
       "      <td>1.029641</td>\n",
       "      <td>17.516718</td>\n",
       "      <td>51.59251</td>\n",
       "      <td>0.356527</td>\n",
       "      <td>0.527878</td>\n",
       "      <td>23.005724</td>\n",
       "      <td>0.472772</td>\n",
       "      <td>1.175053</td>\n",
       "      <td>0.617755</td>\n",
       "      <td>1.030798</td>\n",
       "      <td>0.620660</td>\n",
       "      <td>0.500070</td>\n",
       "    </tr>\n",
       "    <tr>\n",
       "      <th>min</th>\n",
       "      <td>29.000000</td>\n",
       "      <td>0.000000</td>\n",
       "      <td>0.000000</td>\n",
       "      <td>94.000000</td>\n",
       "      <td>126.00000</td>\n",
       "      <td>0.000000</td>\n",
       "      <td>0.000000</td>\n",
       "      <td>71.000000</td>\n",
       "      <td>0.000000</td>\n",
       "      <td>0.000000</td>\n",
       "      <td>0.000000</td>\n",
       "      <td>0.000000</td>\n",
       "      <td>0.000000</td>\n",
       "      <td>0.000000</td>\n",
       "    </tr>\n",
       "    <tr>\n",
       "      <th>25%</th>\n",
       "      <td>48.000000</td>\n",
       "      <td>0.000000</td>\n",
       "      <td>0.000000</td>\n",
       "      <td>120.000000</td>\n",
       "      <td>211.00000</td>\n",
       "      <td>0.000000</td>\n",
       "      <td>0.000000</td>\n",
       "      <td>132.000000</td>\n",
       "      <td>0.000000</td>\n",
       "      <td>0.000000</td>\n",
       "      <td>1.000000</td>\n",
       "      <td>0.000000</td>\n",
       "      <td>2.000000</td>\n",
       "      <td>0.000000</td>\n",
       "    </tr>\n",
       "    <tr>\n",
       "      <th>50%</th>\n",
       "      <td>56.000000</td>\n",
       "      <td>1.000000</td>\n",
       "      <td>1.000000</td>\n",
       "      <td>130.000000</td>\n",
       "      <td>240.00000</td>\n",
       "      <td>0.000000</td>\n",
       "      <td>1.000000</td>\n",
       "      <td>152.000000</td>\n",
       "      <td>0.000000</td>\n",
       "      <td>0.800000</td>\n",
       "      <td>1.000000</td>\n",
       "      <td>0.000000</td>\n",
       "      <td>2.000000</td>\n",
       "      <td>1.000000</td>\n",
       "    </tr>\n",
       "    <tr>\n",
       "      <th>75%</th>\n",
       "      <td>61.000000</td>\n",
       "      <td>1.000000</td>\n",
       "      <td>2.000000</td>\n",
       "      <td>140.000000</td>\n",
       "      <td>275.00000</td>\n",
       "      <td>0.000000</td>\n",
       "      <td>1.000000</td>\n",
       "      <td>166.000000</td>\n",
       "      <td>1.000000</td>\n",
       "      <td>1.800000</td>\n",
       "      <td>2.000000</td>\n",
       "      <td>1.000000</td>\n",
       "      <td>3.000000</td>\n",
       "      <td>1.000000</td>\n",
       "    </tr>\n",
       "    <tr>\n",
       "      <th>max</th>\n",
       "      <td>77.000000</td>\n",
       "      <td>1.000000</td>\n",
       "      <td>3.000000</td>\n",
       "      <td>200.000000</td>\n",
       "      <td>564.00000</td>\n",
       "      <td>1.000000</td>\n",
       "      <td>2.000000</td>\n",
       "      <td>202.000000</td>\n",
       "      <td>1.000000</td>\n",
       "      <td>6.200000</td>\n",
       "      <td>2.000000</td>\n",
       "      <td>4.000000</td>\n",
       "      <td>3.000000</td>\n",
       "      <td>1.000000</td>\n",
       "    </tr>\n",
       "  </tbody>\n",
       "</table>\n",
       "</div>"
      ],
      "text/plain": [
       "               age          sex           cp     trestbps        chol  \\\n",
       "count  1025.000000  1025.000000  1025.000000  1025.000000  1025.00000   \n",
       "mean     54.434146     0.695610     0.942439   131.611707   246.00000   \n",
       "std       9.072290     0.460373     1.029641    17.516718    51.59251   \n",
       "min      29.000000     0.000000     0.000000    94.000000   126.00000   \n",
       "25%      48.000000     0.000000     0.000000   120.000000   211.00000   \n",
       "50%      56.000000     1.000000     1.000000   130.000000   240.00000   \n",
       "75%      61.000000     1.000000     2.000000   140.000000   275.00000   \n",
       "max      77.000000     1.000000     3.000000   200.000000   564.00000   \n",
       "\n",
       "               fbs      restecg      thalach        exang      oldpeak  \\\n",
       "count  1025.000000  1025.000000  1025.000000  1025.000000  1025.000000   \n",
       "mean      0.149268     0.529756   149.114146     0.336585     1.071512   \n",
       "std       0.356527     0.527878    23.005724     0.472772     1.175053   \n",
       "min       0.000000     0.000000    71.000000     0.000000     0.000000   \n",
       "25%       0.000000     0.000000   132.000000     0.000000     0.000000   \n",
       "50%       0.000000     1.000000   152.000000     0.000000     0.800000   \n",
       "75%       0.000000     1.000000   166.000000     1.000000     1.800000   \n",
       "max       1.000000     2.000000   202.000000     1.000000     6.200000   \n",
       "\n",
       "             slope           ca         thal       target  \n",
       "count  1025.000000  1025.000000  1025.000000  1025.000000  \n",
       "mean      1.385366     0.754146     2.323902     0.513171  \n",
       "std       0.617755     1.030798     0.620660     0.500070  \n",
       "min       0.000000     0.000000     0.000000     0.000000  \n",
       "25%       1.000000     0.000000     2.000000     0.000000  \n",
       "50%       1.000000     0.000000     2.000000     1.000000  \n",
       "75%       2.000000     1.000000     3.000000     1.000000  \n",
       "max       2.000000     4.000000     3.000000     1.000000  "
      ]
     },
     "execution_count": 148,
     "metadata": {},
     "output_type": "execute_result"
    }
   ],
   "source": [
    "data.describe()"
   ]
  },
  {
   "cell_type": "markdown",
   "id": "456f4b3d",
   "metadata": {},
   "source": [
    "__Distribution of Target Feature__"
   ]
  },
  {
   "cell_type": "code",
   "execution_count": 149,
   "id": "586bac04",
   "metadata": {
    "scrolled": true
   },
   "outputs": [
    {
     "data": {
      "image/png": "[encoded data removed]",
      "text/plain": [
       "<Figure size 432x288 with 1 Axes>"
      ]
     },
     "metadata": {
      "needs_background": "light"
     },
     "output_type": "display_data"
    }
   ],
   "source": [
    "sns.distplot(data['target'])\n",
    "plt.show()"
   ]
  },
  {
   "cell_type": "markdown",
   "id": "67d79e6e",
   "metadata": {},
   "source": [
    "## Step-2: Train-Test Split"
   ]
  },
  {
   "cell_type": "code",
   "execution_count": 150,
   "id": "2ea25a12",
   "metadata": {},
   "outputs": [],
   "source": [
    "y=data.pop('target')\n",
    "X=data"
   ]
  },
  {
   "cell_type": "code",
   "execution_count": 151,
   "id": "a78accf4",
   "metadata": {},
   "outputs": [],
   "source": [
    "X_train,X_test,y_train,y_test = train_test_split(X,y, train_size=0.7, test_size=0.3, random_state=100)"
   ]
  },
  {
   "cell_type": "code",
   "execution_count": 152,
   "id": "75f991bd",
   "metadata": {},
   "outputs": [
    {
     "name": "stdout",
     "output_type": "stream",
     "text": [
      "(717, 13) (308, 13) (717,) (308,)\n"
     ]
    }
   ],
   "source": [
    "print(X_train.shape,X_test.shape,y_train.shape,y_test.shape)"
   ]
  },
  {
   "cell_type": "markdown",
   "id": "ecb8315b",
   "metadata": {},
   "source": [
    "## Step-3: Feature Scaling"
   ]
  },
  {
   "cell_type": "code",
   "execution_count": 153,
   "id": "020d7b1b",
   "metadata": {
    "scrolled": true
   },
   "outputs": [
    {
     "data": {
      "text/html": [
       "<div>\n",
       "<style scoped>\n",
       "    .dataframe tbody tr th:only-of-type {\n",
       "        vertical-align: middle;\n",
       "    }\n",
       "\n",
       "    .dataframe tbody tr th {\n",
       "        vertical-align: top;\n",
       "    }\n",
       "\n",
       "    .dataframe thead th {\n",
       "        text-align: right;\n",
       "    }\n",
       "</style>\n",
       "<table border=\"1\" class=\"dataframe\">\n",
       "  <thead>\n",
       "    <tr style=\"text-align: right;\">\n",
       "      <th></th>\n",
       "      <th>age</th>\n",
       "      <th>sex</th>\n",
       "      <th>cp</th>\n",
       "      <th>trestbps</th>\n",
       "      <th>chol</th>\n",
       "      <th>fbs</th>\n",
       "      <th>restecg</th>\n",
       "      <th>thalach</th>\n",
       "      <th>exang</th>\n",
       "      <th>oldpeak</th>\n",
       "      <th>slope</th>\n",
       "      <th>ca</th>\n",
       "      <th>thal</th>\n",
       "    </tr>\n",
       "  </thead>\n",
       "  <tbody>\n",
       "    <tr>\n",
       "      <th>542</th>\n",
       "      <td>0.814654</td>\n",
       "      <td>0</td>\n",
       "      <td>-0.902951</td>\n",
       "      <td>0.459385</td>\n",
       "      <td>2.877105</td>\n",
       "      <td>0</td>\n",
       "      <td>-1.017245</td>\n",
       "      <td>0.366547</td>\n",
       "      <td>0</td>\n",
       "      <td>0.078282</td>\n",
       "      <td>-0.590322</td>\n",
       "      <td>-0.740953</td>\n",
       "      <td>-0.534060</td>\n",
       "    </tr>\n",
       "    <tr>\n",
       "      <th>278</th>\n",
       "      <td>0.034358</td>\n",
       "      <td>1</td>\n",
       "      <td>-0.902951</td>\n",
       "      <td>1.607246</td>\n",
       "      <td>0.849482</td>\n",
       "      <td>0</td>\n",
       "      <td>-1.017245</td>\n",
       "      <td>-0.151143</td>\n",
       "      <td>1</td>\n",
       "      <td>-0.257313</td>\n",
       "      <td>-0.590322</td>\n",
       "      <td>0.189455</td>\n",
       "      <td>1.081641</td>\n",
       "    </tr>\n",
       "    <tr>\n",
       "      <th>218</th>\n",
       "      <td>-0.968878</td>\n",
       "      <td>1</td>\n",
       "      <td>-0.902951</td>\n",
       "      <td>0.459385</td>\n",
       "      <td>1.274317</td>\n",
       "      <td>0</td>\n",
       "      <td>0.857728</td>\n",
       "      <td>-1.229665</td>\n",
       "      <td>1</td>\n",
       "      <td>0.581675</td>\n",
       "      <td>-0.590322</td>\n",
       "      <td>1.119864</td>\n",
       "      <td>1.081641</td>\n",
       "    </tr>\n",
       "    <tr>\n",
       "      <th>374</th>\n",
       "      <td>-0.968878</td>\n",
       "      <td>0</td>\n",
       "      <td>1.050038</td>\n",
       "      <td>0.574171</td>\n",
       "      <td>-1.313316</td>\n",
       "      <td>0</td>\n",
       "      <td>-1.017245</td>\n",
       "      <td>0.495969</td>\n",
       "      <td>1</td>\n",
       "      <td>0.246080</td>\n",
       "      <td>-2.187533</td>\n",
       "      <td>-0.740953</td>\n",
       "      <td>-0.534060</td>\n",
       "    </tr>\n",
       "    <tr>\n",
       "      <th>759</th>\n",
       "      <td>0.703183</td>\n",
       "      <td>0</td>\n",
       "      <td>-0.902951</td>\n",
       "      <td>-0.114546</td>\n",
       "      <td>1.641220</td>\n",
       "      <td>0</td>\n",
       "      <td>-1.017245</td>\n",
       "      <td>0.884237</td>\n",
       "      <td>0</td>\n",
       "      <td>-0.928504</td>\n",
       "      <td>1.006889</td>\n",
       "      <td>-0.740953</td>\n",
       "      <td>-0.534060</td>\n",
       "    </tr>\n",
       "  </tbody>\n",
       "</table>\n",
       "</div>"
      ],
      "text/plain": [
       "          age  sex        cp  trestbps      chol  fbs   restecg   thalach  \\\n",
       "542  0.814654    0 -0.902951  0.459385  2.877105    0 -1.017245  0.366547   \n",
       "278  0.034358    1 -0.902951  1.607246  0.849482    0 -1.017245 -0.151143   \n",
       "218 -0.968878    1 -0.902951  0.459385  1.274317    0  0.857728 -1.229665   \n",
       "374 -0.968878    0  1.050038  0.574171 -1.313316    0 -1.017245  0.495969   \n",
       "759  0.703183    0 -0.902951 -0.114546  1.641220    0 -1.017245  0.884237   \n",
       "\n",
       "     exang   oldpeak     slope        ca      thal  \n",
       "542      0  0.078282 -0.590322 -0.740953 -0.534060  \n",
       "278      1 -0.257313 -0.590322  0.189455  1.081641  \n",
       "218      1  0.581675 -0.590322  1.119864  1.081641  \n",
       "374      1  0.246080 -2.187533 -0.740953 -0.534060  \n",
       "759      0 -0.928504  1.006889 -0.740953 -0.534060  "
      ]
     },
     "execution_count": 153,
     "metadata": {},
     "output_type": "execute_result"
    }
   ],
   "source": [
    "scaler = StandardScaler()\n",
    "scaling_cols = ['age','cp','trestbps','chol','restecg','thalach','oldpeak','slope','ca','thal']\n",
    "X_train[scaling_cols] = scaler.fit_transform(X_train[scaling_cols])\n",
    "X_train.head()"
   ]
  },
  {
   "cell_type": "markdown",
   "id": "ac96b799",
   "metadata": {},
   "source": [
    "__Checking Correlations__"
   ]
  },
  {
   "cell_type": "code",
   "execution_count": 154,
   "id": "d2b1508a",
   "metadata": {},
   "outputs": [
    {
     "data": {
      "image/png": "[encoded data removed]",
      "text/plain": [
       "<Figure size 1440x720 with 2 Axes>"
      ]
     },
     "metadata": {
      "needs_background": "light"
     },
     "output_type": "display_data"
    }
   ],
   "source": [
    "plt.figure(figsize=[20,10])\n",
    "sns.heatmap(X_train.corr(),cmap='Greens', annot=True)\n",
    "plt.show()"
   ]
  },
  {
   "cell_type": "markdown",
   "id": "d49d8f8f",
   "metadata": {},
   "source": [
    "No Major Highly Correlated variables"
   ]
  },
  {
   "cell_type": "markdown",
   "id": "b62bf304",
   "metadata": {},
   "source": [
    "## Step-4: Model Building"
   ]
  },
  {
   "cell_type": "code",
   "execution_count": 155,
   "id": "ea961f86",
   "metadata": {},
   "outputs": [
    {
     "data": {
      "text/html": [
       "<table class=\"simpletable\">\n",
       "<caption>Generalized Linear Model Regression Results</caption>\n",
       "<tr>\n",
       "  <th>Dep. Variable:</th>        <td>target</td>      <th>  No. Observations:  </th>  <td>   717</td> \n",
       "</tr>\n",
       "<tr>\n",
       "  <th>Model:</th>                  <td>GLM</td>       <th>  Df Residuals:      </th>  <td>   703</td> \n",
       "</tr>\n",
       "<tr>\n",
       "  <th>Model Family:</th>        <td>Binomial</td>     <th>  Df Model:          </th>  <td>    13</td> \n",
       "</tr>\n",
       "<tr>\n",
       "  <th>Link Function:</th>         <td>Logit</td>      <th>  Scale:             </th> <td>  1.0000</td>\n",
       "</tr>\n",
       "<tr>\n",
       "  <th>Method:</th>                <td>IRLS</td>       <th>  Log-Likelihood:    </th> <td> -259.38</td>\n",
       "</tr>\n",
       "<tr>\n",
       "  <th>Date:</th>            <td>Fri, 11 Mar 2022</td> <th>  Deviance:          </th> <td>  518.77</td>\n",
       "</tr>\n",
       "<tr>\n",
       "  <th>Time:</th>                <td>12:51:43</td>     <th>  Pearson chi2:      </th>  <td>  657.</td> \n",
       "</tr>\n",
       "<tr>\n",
       "  <th>No. Iterations:</th>          <td>6</td>        <th>  Pseudo R-squ. (CS):</th>  <td>0.4846</td> \n",
       "</tr>\n",
       "<tr>\n",
       "  <th>Covariance Type:</th>     <td>nonrobust</td>    <th>                     </th>     <td> </td>   \n",
       "</tr>\n",
       "</table>\n",
       "<table class=\"simpletable\">\n",
       "<tr>\n",
       "      <td></td>        <th>coef</th>     <th>std err</th>      <th>z</th>      <th>P>|z|</th>  <th>[0.025</th>    <th>0.975]</th>  \n",
       "</tr>\n",
       "<tr>\n",
       "  <th>const</th>    <td>    1.2753</td> <td>    0.261</td> <td>    4.877</td> <td> 0.000</td> <td>    0.763</td> <td>    1.788</td>\n",
       "</tr>\n",
       "<tr>\n",
       "  <th>age</th>      <td>   -0.1045</td> <td>    0.133</td> <td>   -0.788</td> <td> 0.431</td> <td>   -0.364</td> <td>    0.155</td>\n",
       "</tr>\n",
       "<tr>\n",
       "  <th>sex</th>      <td>   -1.7285</td> <td>    0.292</td> <td>   -5.910</td> <td> 0.000</td> <td>   -2.302</td> <td>   -1.155</td>\n",
       "</tr>\n",
       "<tr>\n",
       "  <th>cp</th>       <td>    0.7667</td> <td>    0.116</td> <td>    6.597</td> <td> 0.000</td> <td>    0.539</td> <td>    0.995</td>\n",
       "</tr>\n",
       "<tr>\n",
       "  <th>trestbps</th> <td>   -0.2461</td> <td>    0.113</td> <td>   -2.172</td> <td> 0.030</td> <td>   -0.468</td> <td>   -0.024</td>\n",
       "</tr>\n",
       "<tr>\n",
       "  <th>chol</th>     <td>   -0.2333</td> <td>    0.121</td> <td>   -1.931</td> <td> 0.053</td> <td>   -0.470</td> <td>    0.004</td>\n",
       "</tr>\n",
       "<tr>\n",
       "  <th>fbs</th>      <td>    0.3205</td> <td>    0.335</td> <td>    0.957</td> <td> 0.338</td> <td>   -0.336</td> <td>    0.976</td>\n",
       "</tr>\n",
       "<tr>\n",
       "  <th>restecg</th>  <td>    0.2555</td> <td>    0.118</td> <td>    2.165</td> <td> 0.030</td> <td>    0.024</td> <td>    0.487</td>\n",
       "</tr>\n",
       "<tr>\n",
       "  <th>thalach</th>  <td>    0.4762</td> <td>    0.145</td> <td>    3.278</td> <td> 0.001</td> <td>    0.191</td> <td>    0.761</td>\n",
       "</tr>\n",
       "<tr>\n",
       "  <th>exang</th>    <td>   -0.9617</td> <td>    0.264</td> <td>   -3.645</td> <td> 0.000</td> <td>   -1.479</td> <td>   -0.445</td>\n",
       "</tr>\n",
       "<tr>\n",
       "  <th>oldpeak</th>  <td>   -0.7082</td> <td>    0.162</td> <td>   -4.382</td> <td> 0.000</td> <td>   -1.025</td> <td>   -0.391</td>\n",
       "</tr>\n",
       "<tr>\n",
       "  <th>slope</th>    <td>    0.3769</td> <td>    0.137</td> <td>    2.752</td> <td> 0.006</td> <td>    0.109</td> <td>    0.645</td>\n",
       "</tr>\n",
       "<tr>\n",
       "  <th>ca</th>       <td>   -0.6866</td> <td>    0.122</td> <td>   -5.637</td> <td> 0.000</td> <td>   -0.925</td> <td>   -0.448</td>\n",
       "</tr>\n",
       "<tr>\n",
       "  <th>thal</th>     <td>   -0.6058</td> <td>    0.115</td> <td>   -5.274</td> <td> 0.000</td> <td>   -0.831</td> <td>   -0.381</td>\n",
       "</tr>\n",
       "</table>"
      ],
      "text/plain": [
       "<class 'statsmodels.iolib.summary.Summary'>\n",
       "\"\"\"\n",
       "                 Generalized Linear Model Regression Results                  \n",
       "==============================================================================\n",
       "Dep. Variable:                 target   No. Observations:                  717\n",
       "Model:                            GLM   Df Residuals:                      703\n",
       "Model Family:                Binomial   Df Model:                           13\n",
       "Link Function:                  Logit   Scale:                          1.0000\n",
       "Method:                          IRLS   Log-Likelihood:                -259.38\n",
       "Date:                Fri, 11 Mar 2022   Deviance:                       518.77\n",
       "Time:                        12:51:43   Pearson chi2:                     657.\n",
       "No. Iterations:                     6   Pseudo R-squ. (CS):             0.4846\n",
       "Covariance Type:            nonrobust                                         \n",
       "==============================================================================\n",
       "                 coef    std err          z      P>|z|      [0.025      0.975]\n",
       "------------------------------------------------------------------------------\n",
       "const          1.2753      0.261      4.877      0.000       0.763       1.788\n",
       "age           -0.1045      0.133     -0.788      0.431      -0.364       0.155\n",
       "sex           -1.7285      0.292     -5.910      0.000      -2.302      -1.155\n",
       "cp             0.7667      0.116      6.597      0.000       0.539       0.995\n",
       "trestbps      -0.2461      0.113     -2.172      0.030      -0.468      -0.024\n",
       "chol          -0.2333      0.121     -1.931      0.053      -0.470       0.004\n",
       "fbs            0.3205      0.335      0.957      0.338      -0.336       0.976\n",
       "restecg        0.2555      0.118      2.165      0.030       0.024       0.487\n",
       "thalach        0.4762      0.145      3.278      0.001       0.191       0.761\n",
       "exang         -0.9617      0.264     -3.645      0.000      -1.479      -0.445\n",
       "oldpeak       -0.7082      0.162     -4.382      0.000      -1.025      -0.391\n",
       "slope          0.3769      0.137      2.752      0.006       0.109       0.645\n",
       "ca            -0.6866      0.122     -5.637      0.000      -0.925      -0.448\n",
       "thal          -0.6058      0.115     -5.274      0.000      -0.831      -0.381\n",
       "==============================================================================\n",
       "\"\"\""
      ]
     },
     "execution_count": 155,
     "metadata": {},
     "output_type": "execute_result"
    }
   ],
   "source": [
    "X_train_sm = sm.add_constant(X_train)\n",
    "log1 = sm.GLM(y_train,(sm.add_constant(X_train_sm)), family = sm.families.Binomial())\n",
    "model = log1.fit()\n",
    "model.summary()"
   ]
  },
  {
   "cell_type": "code",
   "execution_count": 156,
   "id": "4df56bbf",
   "metadata": {},
   "outputs": [
    {
     "data": {
      "text/html": [
       "<div>\n",
       "<style scoped>\n",
       "    .dataframe tbody tr th:only-of-type {\n",
       "        vertical-align: middle;\n",
       "    }\n",
       "\n",
       "    .dataframe tbody tr th {\n",
       "        vertical-align: top;\n",
       "    }\n",
       "\n",
       "    .dataframe thead th {\n",
       "        text-align: right;\n",
       "    }\n",
       "</style>\n",
       "<table border=\"1\" class=\"dataframe\">\n",
       "  <thead>\n",
       "    <tr style=\"text-align: right;\">\n",
       "      <th></th>\n",
       "      <th>Features</th>\n",
       "      <th>VIF</th>\n",
       "    </tr>\n",
       "  </thead>\n",
       "  <tbody>\n",
       "    <tr>\n",
       "      <th>8</th>\n",
       "      <td>exang</td>\n",
       "      <td>1.90</td>\n",
       "    </tr>\n",
       "    <tr>\n",
       "      <th>9</th>\n",
       "      <td>oldpeak</td>\n",
       "      <td>1.71</td>\n",
       "    </tr>\n",
       "    <tr>\n",
       "      <th>1</th>\n",
       "      <td>sex</td>\n",
       "      <td>1.68</td>\n",
       "    </tr>\n",
       "    <tr>\n",
       "      <th>10</th>\n",
       "      <td>slope</td>\n",
       "      <td>1.62</td>\n",
       "    </tr>\n",
       "    <tr>\n",
       "      <th>7</th>\n",
       "      <td>thalach</td>\n",
       "      <td>1.53</td>\n",
       "    </tr>\n",
       "    <tr>\n",
       "      <th>0</th>\n",
       "      <td>age</td>\n",
       "      <td>1.40</td>\n",
       "    </tr>\n",
       "    <tr>\n",
       "      <th>2</th>\n",
       "      <td>cp</td>\n",
       "      <td>1.26</td>\n",
       "    </tr>\n",
       "    <tr>\n",
       "      <th>5</th>\n",
       "      <td>fbs</td>\n",
       "      <td>1.24</td>\n",
       "    </tr>\n",
       "    <tr>\n",
       "      <th>11</th>\n",
       "      <td>ca</td>\n",
       "      <td>1.17</td>\n",
       "    </tr>\n",
       "    <tr>\n",
       "      <th>3</th>\n",
       "      <td>trestbps</td>\n",
       "      <td>1.15</td>\n",
       "    </tr>\n",
       "    <tr>\n",
       "      <th>4</th>\n",
       "      <td>chol</td>\n",
       "      <td>1.11</td>\n",
       "    </tr>\n",
       "    <tr>\n",
       "      <th>12</th>\n",
       "      <td>thal</td>\n",
       "      <td>1.08</td>\n",
       "    </tr>\n",
       "    <tr>\n",
       "      <th>6</th>\n",
       "      <td>restecg</td>\n",
       "      <td>1.07</td>\n",
       "    </tr>\n",
       "  </tbody>\n",
       "</table>\n",
       "</div>"
      ],
      "text/plain": [
       "    Features   VIF\n",
       "8      exang  1.90\n",
       "9    oldpeak  1.71\n",
       "1        sex  1.68\n",
       "10     slope  1.62\n",
       "7    thalach  1.53\n",
       "0        age  1.40\n",
       "2         cp  1.26\n",
       "5        fbs  1.24\n",
       "11        ca  1.17\n",
       "3   trestbps  1.15\n",
       "4       chol  1.11\n",
       "12      thal  1.08\n",
       "6    restecg  1.07"
      ]
     },
     "execution_count": 156,
     "metadata": {},
     "output_type": "execute_result"
    }
   ],
   "source": [
    "vif = pd.DataFrame()\n",
    "vif['Features'] = X_train.columns\n",
    "vif['VIF'] = [variance_inflation_factor(X_train.values,i) for i in range(X_train.shape[1])]\n",
    "vif['VIF'] = round(vif['VIF'],2)\n",
    "vif = vif.sort_values(by='VIF', ascending = False)\n",
    "vif"
   ]
  },
  {
   "cell_type": "markdown",
   "id": "30b46a58",
   "metadata": {},
   "source": [
    "VIF Scores looks good, there is no Multi-Collinearity"
   ]
  },
  {
   "cell_type": "code",
   "execution_count": 157,
   "id": "a75abbb5",
   "metadata": {},
   "outputs": [
    {
     "data": {
      "text/plain": [
       "542    0.545553\n",
       "278    0.020593\n",
       "218    0.007835\n",
       "374    0.767580\n",
       "759    0.898929\n",
       "         ...   \n",
       "79     0.725894\n",
       "855    0.874628\n",
       "871    0.915043\n",
       "835    0.451057\n",
       "792    0.020643\n",
       "Length: 717, dtype: float64"
      ]
     },
     "execution_count": 157,
     "metadata": {},
     "output_type": "execute_result"
    }
   ],
   "source": [
    "y_train_pred = model.predict(X_train_sm)\n",
    "y_train_pred"
   ]
  },
  {
   "cell_type": "code",
   "execution_count": 158,
   "id": "4d2a7fb1",
   "metadata": {},
   "outputs": [
    {
     "data": {
      "text/html": [
       "<div>\n",
       "<style scoped>\n",
       "    .dataframe tbody tr th:only-of-type {\n",
       "        vertical-align: middle;\n",
       "    }\n",
       "\n",
       "    .dataframe tbody tr th {\n",
       "        vertical-align: top;\n",
       "    }\n",
       "\n",
       "    .dataframe thead th {\n",
       "        text-align: right;\n",
       "    }\n",
       "</style>\n",
       "<table border=\"1\" class=\"dataframe\">\n",
       "  <thead>\n",
       "    <tr style=\"text-align: right;\">\n",
       "      <th></th>\n",
       "      <th>Target_Actual</th>\n",
       "      <th>Target_Probability</th>\n",
       "      <th>PatientID</th>\n",
       "    </tr>\n",
       "  </thead>\n",
       "  <tbody>\n",
       "    <tr>\n",
       "      <th>542</th>\n",
       "      <td>1</td>\n",
       "      <td>0.545553</td>\n",
       "      <td>542</td>\n",
       "    </tr>\n",
       "    <tr>\n",
       "      <th>278</th>\n",
       "      <td>0</td>\n",
       "      <td>0.020593</td>\n",
       "      <td>278</td>\n",
       "    </tr>\n",
       "    <tr>\n",
       "      <th>218</th>\n",
       "      <td>0</td>\n",
       "      <td>0.007835</td>\n",
       "      <td>218</td>\n",
       "    </tr>\n",
       "    <tr>\n",
       "      <th>374</th>\n",
       "      <td>1</td>\n",
       "      <td>0.767580</td>\n",
       "      <td>374</td>\n",
       "    </tr>\n",
       "    <tr>\n",
       "      <th>759</th>\n",
       "      <td>0</td>\n",
       "      <td>0.898929</td>\n",
       "      <td>759</td>\n",
       "    </tr>\n",
       "  </tbody>\n",
       "</table>\n",
       "</div>"
      ],
      "text/plain": [
       "     Target_Actual  Target_Probability  PatientID\n",
       "542              1            0.545553        542\n",
       "278              0            0.020593        278\n",
       "218              0            0.007835        218\n",
       "374              1            0.767580        374\n",
       "759              0            0.898929        759"
      ]
     },
     "execution_count": 158,
     "metadata": {},
     "output_type": "execute_result"
    }
   ],
   "source": [
    "Result_DataFrame = pd.DataFrame({'Target_Actual':y_train.values,'Target_Probability': y_train_pred})\n",
    "Result_DataFrame['PatientID'] = y_train.index\n",
    "Result_DataFrame.head()"
   ]
  },
  {
   "cell_type": "code",
   "execution_count": 159,
   "id": "bbc7c7ae",
   "metadata": {},
   "outputs": [
    {
     "data": {
      "text/plain": [
       "False"
      ]
     },
     "execution_count": 159,
     "metadata": {},
     "output_type": "execute_result"
    }
   ],
   "source": [
    "Result_DataFrame.isnull().values.any()"
   ]
  },
  {
   "cell_type": "markdown",
   "id": "7ae8b0a0",
   "metadata": {},
   "source": [
    "## Step-5: Plotting ROC Curve"
   ]
  },
  {
   "cell_type": "markdown",
   "id": "f0093b45",
   "metadata": {},
   "source": [
    "An ROC curve demonstrates several things:\n",
    "\n",
    "- It shows the tradeoff between sensitivity and specificity (any increase in sensitivity will be accompanied by a decrease in specificity).\n",
    "- The closer the curve follows the left-hand border and then the top border of the ROC space, the more accurate the test.\n",
    "- The closer the curve comes to the 45-degree diagonal of the ROC space, the less accurate the test."
   ]
  },
  {
   "cell_type": "code",
   "execution_count": 160,
   "id": "b5b1edb7",
   "metadata": {},
   "outputs": [],
   "source": [
    "def draw_roc( actual, probs ):\n",
    "    fpr, tpr, thresholds = metrics.roc_curve( actual, probs,\n",
    "                                              drop_intermediate = False )\n",
    "    auc_score = metrics.roc_auc_score( actual, probs )\n",
    "    plt.figure(figsize=(5, 5))\n",
    "    plt.plot( fpr, tpr, label='ROC curve (area = %0.2f)' % auc_score )\n",
    "    plt.plot([0, 1], [0, 1], 'k--')\n",
    "    plt.xlim([0.0, 1.0])\n",
    "    plt.ylim([0.0, 1.05])\n",
    "    plt.xlabel('False Positive Rate or [1 - True Negative Rate]')\n",
    "    plt.ylabel('True Positive Rate')\n",
    "    plt.title('Receiver operating characteristic example')\n",
    "    plt.legend(loc=\"lower right\")\n",
    "    plt.show()\n",
    "\n",
    "    return None"
   ]
  },
  {
   "cell_type": "code",
   "execution_count": 161,
   "id": "d40dd5ad",
   "metadata": {},
   "outputs": [
    {
     "data": {
      "image/png": "[encoded data removed]",
      "text/plain": [
       "<Figure size 360x360 with 1 Axes>"
      ]
     },
     "metadata": {
      "needs_background": "light"
     },
     "output_type": "display_data"
    }
   ],
   "source": [
    "draw_roc(Result_DataFrame.Target_Actual, Result_DataFrame.Target_Probability)"
   ]
  },
  {
   "cell_type": "markdown",
   "id": "904622a3",
   "metadata": {},
   "source": [
    "__The ROC curve looks pretty strong with 92% Area Under Curve__"
   ]
  },
  {
   "cell_type": "markdown",
   "id": "8ddea2ae",
   "metadata": {},
   "source": [
    "## Step-6: Finding Optimal Cutoff & Metrics Evaluation"
   ]
  },
  {
   "cell_type": "code",
   "execution_count": 162,
   "id": "4361422a",
   "metadata": {},
   "outputs": [
    {
     "data": {
      "text/plain": [
       "[0.0, 0.1, 0.2, 0.3, 0.4, 0.5, 0.6, 0.7, 0.8, 0.9, 1.0]"
      ]
     },
     "execution_count": 162,
     "metadata": {},
     "output_type": "execute_result"
    }
   ],
   "source": [
    "cutoffs = [float(i/10) for i in range(0,11)]\n",
    "cutoffs"
   ]
  },
  {
   "cell_type": "code",
   "execution_count": 163,
   "id": "795436f6",
   "metadata": {},
   "outputs": [
    {
     "data": {
      "text/html": [
       "<div>\n",
       "<style scoped>\n",
       "    .dataframe tbody tr th:only-of-type {\n",
       "        vertical-align: middle;\n",
       "    }\n",
       "\n",
       "    .dataframe tbody tr th {\n",
       "        vertical-align: top;\n",
       "    }\n",
       "\n",
       "    .dataframe thead th {\n",
       "        text-align: right;\n",
       "    }\n",
       "</style>\n",
       "<table border=\"1\" class=\"dataframe\">\n",
       "  <thead>\n",
       "    <tr style=\"text-align: right;\">\n",
       "      <th></th>\n",
       "      <th>Target_Actual</th>\n",
       "      <th>Target_Probability</th>\n",
       "      <th>PatientID</th>\n",
       "      <th>0.0</th>\n",
       "      <th>0.1</th>\n",
       "      <th>0.2</th>\n",
       "      <th>0.3</th>\n",
       "      <th>0.4</th>\n",
       "      <th>0.5</th>\n",
       "      <th>0.6</th>\n",
       "      <th>0.7</th>\n",
       "      <th>0.8</th>\n",
       "      <th>0.9</th>\n",
       "      <th>1.0</th>\n",
       "    </tr>\n",
       "  </thead>\n",
       "  <tbody>\n",
       "    <tr>\n",
       "      <th>542</th>\n",
       "      <td>1</td>\n",
       "      <td>0.545553</td>\n",
       "      <td>542</td>\n",
       "      <td>1</td>\n",
       "      <td>1</td>\n",
       "      <td>1</td>\n",
       "      <td>1</td>\n",
       "      <td>1</td>\n",
       "      <td>1</td>\n",
       "      <td>0</td>\n",
       "      <td>0</td>\n",
       "      <td>0</td>\n",
       "      <td>0</td>\n",
       "      <td>0</td>\n",
       "    </tr>\n",
       "    <tr>\n",
       "      <th>278</th>\n",
       "      <td>0</td>\n",
       "      <td>0.020593</td>\n",
       "      <td>278</td>\n",
       "      <td>1</td>\n",
       "      <td>0</td>\n",
       "      <td>0</td>\n",
       "      <td>0</td>\n",
       "      <td>0</td>\n",
       "      <td>0</td>\n",
       "      <td>0</td>\n",
       "      <td>0</td>\n",
       "      <td>0</td>\n",
       "      <td>0</td>\n",
       "      <td>0</td>\n",
       "    </tr>\n",
       "    <tr>\n",
       "      <th>218</th>\n",
       "      <td>0</td>\n",
       "      <td>0.007835</td>\n",
       "      <td>218</td>\n",
       "      <td>1</td>\n",
       "      <td>0</td>\n",
       "      <td>0</td>\n",
       "      <td>0</td>\n",
       "      <td>0</td>\n",
       "      <td>0</td>\n",
       "      <td>0</td>\n",
       "      <td>0</td>\n",
       "      <td>0</td>\n",
       "      <td>0</td>\n",
       "      <td>0</td>\n",
       "    </tr>\n",
       "    <tr>\n",
       "      <th>374</th>\n",
       "      <td>1</td>\n",
       "      <td>0.767580</td>\n",
       "      <td>374</td>\n",
       "      <td>1</td>\n",
       "      <td>1</td>\n",
       "      <td>1</td>\n",
       "      <td>1</td>\n",
       "      <td>1</td>\n",
       "      <td>1</td>\n",
       "      <td>1</td>\n",
       "      <td>1</td>\n",
       "      <td>0</td>\n",
       "      <td>0</td>\n",
       "      <td>0</td>\n",
       "    </tr>\n",
       "    <tr>\n",
       "      <th>759</th>\n",
       "      <td>0</td>\n",
       "      <td>0.898929</td>\n",
       "      <td>759</td>\n",
       "      <td>1</td>\n",
       "      <td>1</td>\n",
       "      <td>1</td>\n",
       "      <td>1</td>\n",
       "      <td>1</td>\n",
       "      <td>1</td>\n",
       "      <td>1</td>\n",
       "      <td>1</td>\n",
       "      <td>1</td>\n",
       "      <td>0</td>\n",
       "      <td>0</td>\n",
       "    </tr>\n",
       "  </tbody>\n",
       "</table>\n",
       "</div>"
      ],
      "text/plain": [
       "     Target_Actual  Target_Probability  PatientID  0.0  0.1  0.2  0.3  0.4  \\\n",
       "542              1            0.545553        542    1    1    1    1    1   \n",
       "278              0            0.020593        278    1    0    0    0    0   \n",
       "218              0            0.007835        218    1    0    0    0    0   \n",
       "374              1            0.767580        374    1    1    1    1    1   \n",
       "759              0            0.898929        759    1    1    1    1    1   \n",
       "\n",
       "     0.5  0.6  0.7  0.8  0.9  1.0  \n",
       "542    1    0    0    0    0    0  \n",
       "278    0    0    0    0    0    0  \n",
       "218    0    0    0    0    0    0  \n",
       "374    1    1    1    0    0    0  \n",
       "759    1    1    1    1    0    0  "
      ]
     },
     "execution_count": 163,
     "metadata": {},
     "output_type": "execute_result"
    }
   ],
   "source": [
    "for i in cutoffs:\n",
    "    Result_DataFrame[i] = Result_DataFrame.Target_Probability.map(lambda x: 1 if x>i else 0)\n",
    "\n",
    "Result_DataFrame.head()    "
   ]
  },
  {
   "cell_type": "code",
   "execution_count": 164,
   "id": "7f998de8",
   "metadata": {},
   "outputs": [],
   "source": [
    "cutoff_df = pd.DataFrame(columns = ['cutoff','accuracy','sensitivity','specificity'])\n",
    "\n",
    "num = cutoffs[0:-1]\n",
    "for i in num:\n",
    "    cm = metrics.confusion_matrix(Result_DataFrame.Target_Actual,Result_DataFrame[i])\n",
    "    total = sum(sum(cm))\n",
    "    accuracy = (cm[0,0]+cm[1,1])/total\n",
    "    sensi = cm[1,1]/(cm[1,1]+cm[1,0])\n",
    "    speci = cm[0,0]/(cm[0,0]+cm[0,1])\n",
    "    \n",
    "    cutoff_df.loc[i] = [i, accuracy, sensi, speci]"
   ]
  },
  {
   "cell_type": "code",
   "execution_count": 165,
   "id": "459f0b81",
   "metadata": {},
   "outputs": [
    {
     "data": {
      "text/html": [
       "<div>\n",
       "<style scoped>\n",
       "    .dataframe tbody tr th:only-of-type {\n",
       "        vertical-align: middle;\n",
       "    }\n",
       "\n",
       "    .dataframe tbody tr th {\n",
       "        vertical-align: top;\n",
       "    }\n",
       "\n",
       "    .dataframe thead th {\n",
       "        text-align: right;\n",
       "    }\n",
       "</style>\n",
       "<table border=\"1\" class=\"dataframe\">\n",
       "  <thead>\n",
       "    <tr style=\"text-align: right;\">\n",
       "      <th></th>\n",
       "      <th>cutoff</th>\n",
       "      <th>accuracy</th>\n",
       "      <th>sensitivity</th>\n",
       "      <th>specificity</th>\n",
       "    </tr>\n",
       "  </thead>\n",
       "  <tbody>\n",
       "    <tr>\n",
       "      <th>0.0</th>\n",
       "      <td>0.0</td>\n",
       "      <td>0.499303</td>\n",
       "      <td>1.000000</td>\n",
       "      <td>0.000000</td>\n",
       "    </tr>\n",
       "    <tr>\n",
       "      <th>0.1</th>\n",
       "      <td>0.1</td>\n",
       "      <td>0.725244</td>\n",
       "      <td>0.966480</td>\n",
       "      <td>0.484680</td>\n",
       "    </tr>\n",
       "    <tr>\n",
       "      <th>0.2</th>\n",
       "      <td>0.2</td>\n",
       "      <td>0.793584</td>\n",
       "      <td>0.960894</td>\n",
       "      <td>0.626741</td>\n",
       "    </tr>\n",
       "    <tr>\n",
       "      <th>0.3</th>\n",
       "      <td>0.3</td>\n",
       "      <td>0.821478</td>\n",
       "      <td>0.944134</td>\n",
       "      <td>0.699164</td>\n",
       "    </tr>\n",
       "    <tr>\n",
       "      <th>0.4</th>\n",
       "      <td>0.4</td>\n",
       "      <td>0.828452</td>\n",
       "      <td>0.902235</td>\n",
       "      <td>0.754875</td>\n",
       "    </tr>\n",
       "    <tr>\n",
       "      <th>0.5</th>\n",
       "      <td>0.5</td>\n",
       "      <td>0.857741</td>\n",
       "      <td>0.888268</td>\n",
       "      <td>0.827298</td>\n",
       "    </tr>\n",
       "    <tr>\n",
       "      <th>0.6</th>\n",
       "      <td>0.6</td>\n",
       "      <td>0.838215</td>\n",
       "      <td>0.804469</td>\n",
       "      <td>0.871866</td>\n",
       "    </tr>\n",
       "    <tr>\n",
       "      <th>0.7</th>\n",
       "      <td>0.7</td>\n",
       "      <td>0.813110</td>\n",
       "      <td>0.720670</td>\n",
       "      <td>0.905292</td>\n",
       "    </tr>\n",
       "    <tr>\n",
       "      <th>0.8</th>\n",
       "      <td>0.8</td>\n",
       "      <td>0.760112</td>\n",
       "      <td>0.581006</td>\n",
       "      <td>0.938719</td>\n",
       "    </tr>\n",
       "    <tr>\n",
       "      <th>0.9</th>\n",
       "      <td>0.9</td>\n",
       "      <td>0.688982</td>\n",
       "      <td>0.396648</td>\n",
       "      <td>0.980501</td>\n",
       "    </tr>\n",
       "  </tbody>\n",
       "</table>\n",
       "</div>"
      ],
      "text/plain": [
       "     cutoff  accuracy  sensitivity  specificity\n",
       "0.0     0.0  0.499303     1.000000     0.000000\n",
       "0.1     0.1  0.725244     0.966480     0.484680\n",
       "0.2     0.2  0.793584     0.960894     0.626741\n",
       "0.3     0.3  0.821478     0.944134     0.699164\n",
       "0.4     0.4  0.828452     0.902235     0.754875\n",
       "0.5     0.5  0.857741     0.888268     0.827298\n",
       "0.6     0.6  0.838215     0.804469     0.871866\n",
       "0.7     0.7  0.813110     0.720670     0.905292\n",
       "0.8     0.8  0.760112     0.581006     0.938719\n",
       "0.9     0.9  0.688982     0.396648     0.980501"
      ]
     },
     "execution_count": 165,
     "metadata": {},
     "output_type": "execute_result"
    }
   ],
   "source": [
    "cutoff_df"
   ]
  },
  {
   "cell_type": "markdown",
   "id": "6e3c9947",
   "metadata": {},
   "source": [
    "__Plotting Evaluation Scores to Find Trade-off__"
   ]
  },
  {
   "cell_type": "code",
   "execution_count": 166,
   "id": "227b29c2",
   "metadata": {},
   "outputs": [
    {
     "data": {
      "image/png": "[encoded data removed]",
      "text/plain": [
       "<Figure size 432x288 with 1 Axes>"
      ]
     },
     "metadata": {
      "needs_background": "light"
     },
     "output_type": "display_data"
    }
   ],
   "source": [
    "cutoff_df.plot.line(x='cutoff',y=['accuracy','sensitivity','specificity'])\n",
    "plt.show()"
   ]
  },
  {
   "cell_type": "markdown",
   "id": "64de620e",
   "metadata": {},
   "source": [
    "__As we can see from above, all the evaluation metrics are intersecting at point 0.57, Thus we can take 0.57 as our optimal cutoff__"
   ]
  },
  {
   "cell_type": "code",
   "execution_count": 167,
   "id": "7811d59f",
   "metadata": {},
   "outputs": [
    {
     "data": {
      "text/html": [
       "<div>\n",
       "<style scoped>\n",
       "    .dataframe tbody tr th:only-of-type {\n",
       "        vertical-align: middle;\n",
       "    }\n",
       "\n",
       "    .dataframe tbody tr th {\n",
       "        vertical-align: top;\n",
       "    }\n",
       "\n",
       "    .dataframe thead th {\n",
       "        text-align: right;\n",
       "    }\n",
       "</style>\n",
       "<table border=\"1\" class=\"dataframe\">\n",
       "  <thead>\n",
       "    <tr style=\"text-align: right;\">\n",
       "      <th></th>\n",
       "      <th>Target_Actual</th>\n",
       "      <th>Target_Probability</th>\n",
       "      <th>PatientID</th>\n",
       "      <th>0.0</th>\n",
       "      <th>0.1</th>\n",
       "      <th>0.2</th>\n",
       "      <th>0.3</th>\n",
       "      <th>0.4</th>\n",
       "      <th>0.5</th>\n",
       "      <th>0.6</th>\n",
       "      <th>0.7</th>\n",
       "      <th>0.8</th>\n",
       "      <th>0.9</th>\n",
       "      <th>1.0</th>\n",
       "      <th>Target_Predicted</th>\n",
       "    </tr>\n",
       "  </thead>\n",
       "  <tbody>\n",
       "    <tr>\n",
       "      <th>542</th>\n",
       "      <td>1</td>\n",
       "      <td>0.545553</td>\n",
       "      <td>542</td>\n",
       "      <td>1</td>\n",
       "      <td>1</td>\n",
       "      <td>1</td>\n",
       "      <td>1</td>\n",
       "      <td>1</td>\n",
       "      <td>1</td>\n",
       "      <td>0</td>\n",
       "      <td>0</td>\n",
       "      <td>0</td>\n",
       "      <td>0</td>\n",
       "      <td>0</td>\n",
       "      <td>0</td>\n",
       "    </tr>\n",
       "    <tr>\n",
       "      <th>278</th>\n",
       "      <td>0</td>\n",
       "      <td>0.020593</td>\n",
       "      <td>278</td>\n",
       "      <td>1</td>\n",
       "      <td>0</td>\n",
       "      <td>0</td>\n",
       "      <td>0</td>\n",
       "      <td>0</td>\n",
       "      <td>0</td>\n",
       "      <td>0</td>\n",
       "      <td>0</td>\n",
       "      <td>0</td>\n",
       "      <td>0</td>\n",
       "      <td>0</td>\n",
       "      <td>0</td>\n",
       "    </tr>\n",
       "    <tr>\n",
       "      <th>218</th>\n",
       "      <td>0</td>\n",
       "      <td>0.007835</td>\n",
       "      <td>218</td>\n",
       "      <td>1</td>\n",
       "      <td>0</td>\n",
       "      <td>0</td>\n",
       "      <td>0</td>\n",
       "      <td>0</td>\n",
       "      <td>0</td>\n",
       "      <td>0</td>\n",
       "      <td>0</td>\n",
       "      <td>0</td>\n",
       "      <td>0</td>\n",
       "      <td>0</td>\n",
       "      <td>0</td>\n",
       "    </tr>\n",
       "    <tr>\n",
       "      <th>374</th>\n",
       "      <td>1</td>\n",
       "      <td>0.767580</td>\n",
       "      <td>374</td>\n",
       "      <td>1</td>\n",
       "      <td>1</td>\n",
       "      <td>1</td>\n",
       "      <td>1</td>\n",
       "      <td>1</td>\n",
       "      <td>1</td>\n",
       "      <td>1</td>\n",
       "      <td>1</td>\n",
       "      <td>0</td>\n",
       "      <td>0</td>\n",
       "      <td>0</td>\n",
       "      <td>1</td>\n",
       "    </tr>\n",
       "    <tr>\n",
       "      <th>759</th>\n",
       "      <td>0</td>\n",
       "      <td>0.898929</td>\n",
       "      <td>759</td>\n",
       "      <td>1</td>\n",
       "      <td>1</td>\n",
       "      <td>1</td>\n",
       "      <td>1</td>\n",
       "      <td>1</td>\n",
       "      <td>1</td>\n",
       "      <td>1</td>\n",
       "      <td>1</td>\n",
       "      <td>1</td>\n",
       "      <td>0</td>\n",
       "      <td>0</td>\n",
       "      <td>1</td>\n",
       "    </tr>\n",
       "  </tbody>\n",
       "</table>\n",
       "</div>"
      ],
      "text/plain": [
       "     Target_Actual  Target_Probability  PatientID  0.0  0.1  0.2  0.3  0.4  \\\n",
       "542              1            0.545553        542    1    1    1    1    1   \n",
       "278              0            0.020593        278    1    0    0    0    0   \n",
       "218              0            0.007835        218    1    0    0    0    0   \n",
       "374              1            0.767580        374    1    1    1    1    1   \n",
       "759              0            0.898929        759    1    1    1    1    1   \n",
       "\n",
       "     0.5  0.6  0.7  0.8  0.9  1.0  Target_Predicted  \n",
       "542    1    0    0    0    0    0                 0  \n",
       "278    0    0    0    0    0    0                 0  \n",
       "218    0    0    0    0    0    0                 0  \n",
       "374    1    1    1    0    0    0                 1  \n",
       "759    1    1    1    1    0    0                 1  "
      ]
     },
     "execution_count": 167,
     "metadata": {},
     "output_type": "execute_result"
    }
   ],
   "source": [
    "Result_DataFrame['Target_Predicted'] = Result_DataFrame.Target_Probability.map(lambda x: 1 if x > 0.57 else 0)\n",
    "Result_DataFrame.head()"
   ]
  },
  {
   "cell_type": "markdown",
   "id": "f4f73efb",
   "metadata": {},
   "source": [
    "__Metrics Evaluation for Final Predicted__"
   ]
  },
  {
   "cell_type": "code",
   "execution_count": 168,
   "id": "7bf6a470",
   "metadata": {},
   "outputs": [
    {
     "data": {
      "text/plain": [
       "array([[308,  51],\n",
       "       [ 59, 299]], dtype=int64)"
      ]
     },
     "execution_count": 168,
     "metadata": {},
     "output_type": "execute_result"
    }
   ],
   "source": [
    "confusion = metrics.confusion_matrix(Result_DataFrame.Target_Actual,Result_DataFrame.Target_Predicted)\n",
    "confusion"
   ]
  },
  {
   "cell_type": "code",
   "execution_count": 169,
   "id": "fdac419f",
   "metadata": {},
   "outputs": [],
   "source": [
    "TP = confusion[1,1] #true positive\n",
    "TN = confusion[0,0] #true negative\n",
    "FP = confusion[0,1] #false positive\n",
    "FN = confusion[1,0] #false negative"
   ]
  },
  {
   "cell_type": "code",
   "execution_count": 170,
   "id": "a7d6a4b8",
   "metadata": {},
   "outputs": [
    {
     "data": {
      "text/plain": [
       "60.0"
      ]
     },
     "execution_count": 170,
     "metadata": {},
     "output_type": "execute_result"
    }
   ],
   "source": [
    "#Sensitivity score\n",
    "TP/TP+FN"
   ]
  },
  {
   "cell_type": "code",
   "execution_count": 171,
   "id": "bc4e2425",
   "metadata": {},
   "outputs": [
    {
     "data": {
      "text/plain": [
       "52.0"
      ]
     },
     "execution_count": 171,
     "metadata": {},
     "output_type": "execute_result"
    }
   ],
   "source": [
    "#Specificity Score\n",
    "TN/TN+FP"
   ]
  },
  {
   "cell_type": "code",
   "execution_count": 172,
   "id": "a1fde084",
   "metadata": {},
   "outputs": [
    {
     "data": {
      "text/plain": [
       "52.0"
      ]
     },
     "execution_count": 172,
     "metadata": {},
     "output_type": "execute_result"
    }
   ],
   "source": [
    "#Precision\n",
    "TP/TP+FP"
   ]
  },
  {
   "cell_type": "code",
   "execution_count": 173,
   "id": "caacaa6f",
   "metadata": {},
   "outputs": [
    {
     "data": {
      "text/plain": [
       "0.8465829846582985"
      ]
     },
     "execution_count": 173,
     "metadata": {},
     "output_type": "execute_result"
    }
   ],
   "source": [
    "#Accuracy\n",
    "metrics.accuracy_score(Result_DataFrame.Target_Actual,Result_DataFrame.Target_Predicted)"
   ]
  },
  {
   "cell_type": "markdown",
   "id": "999e0156",
   "metadata": {},
   "source": [
    "## Step-7: Prediction on Test-Set"
   ]
  },
  {
   "cell_type": "code",
   "execution_count": 174,
   "id": "b7bf9216",
   "metadata": {
    "scrolled": true
   },
   "outputs": [
    {
     "data": {
      "text/html": [
       "<div>\n",
       "<style scoped>\n",
       "    .dataframe tbody tr th:only-of-type {\n",
       "        vertical-align: middle;\n",
       "    }\n",
       "\n",
       "    .dataframe tbody tr th {\n",
       "        vertical-align: top;\n",
       "    }\n",
       "\n",
       "    .dataframe thead th {\n",
       "        text-align: right;\n",
       "    }\n",
       "</style>\n",
       "<table border=\"1\" class=\"dataframe\">\n",
       "  <thead>\n",
       "    <tr style=\"text-align: right;\">\n",
       "      <th></th>\n",
       "      <th>age</th>\n",
       "      <th>sex</th>\n",
       "      <th>cp</th>\n",
       "      <th>trestbps</th>\n",
       "      <th>chol</th>\n",
       "      <th>fbs</th>\n",
       "      <th>restecg</th>\n",
       "      <th>thalach</th>\n",
       "      <th>exang</th>\n",
       "      <th>oldpeak</th>\n",
       "      <th>slope</th>\n",
       "      <th>ca</th>\n",
       "      <th>thal</th>\n",
       "    </tr>\n",
       "  </thead>\n",
       "  <tbody>\n",
       "    <tr>\n",
       "      <th>960</th>\n",
       "      <td>-0.300054</td>\n",
       "      <td>0</td>\n",
       "      <td>1.050038</td>\n",
       "      <td>0.229812</td>\n",
       "      <td>-0.946412</td>\n",
       "      <td>0</td>\n",
       "      <td>-1.017245</td>\n",
       "      <td>0.884237</td>\n",
       "      <td>0</td>\n",
       "      <td>-0.844605</td>\n",
       "      <td>-0.590322</td>\n",
       "      <td>-0.740953</td>\n",
       "      <td>-0.534060</td>\n",
       "    </tr>\n",
       "    <tr>\n",
       "      <th>48</th>\n",
       "      <td>1.260536</td>\n",
       "      <td>0</td>\n",
       "      <td>1.050038</td>\n",
       "      <td>0.803743</td>\n",
       "      <td>0.637064</td>\n",
       "      <td>0</td>\n",
       "      <td>-1.017245</td>\n",
       "      <td>0.150843</td>\n",
       "      <td>0</td>\n",
       "      <td>-0.928504</td>\n",
       "      <td>-0.590322</td>\n",
       "      <td>0.189455</td>\n",
       "      <td>-0.534060</td>\n",
       "    </tr>\n",
       "    <tr>\n",
       "      <th>886</th>\n",
       "      <td>0.703183</td>\n",
       "      <td>1</td>\n",
       "      <td>-0.902951</td>\n",
       "      <td>-0.688476</td>\n",
       "      <td>0.289472</td>\n",
       "      <td>0</td>\n",
       "      <td>0.857728</td>\n",
       "      <td>-0.366848</td>\n",
       "      <td>1</td>\n",
       "      <td>2.091855</td>\n",
       "      <td>-0.590322</td>\n",
       "      <td>0.189455</td>\n",
       "      <td>1.081641</td>\n",
       "    </tr>\n",
       "    <tr>\n",
       "      <th>981</th>\n",
       "      <td>-1.749173</td>\n",
       "      <td>1</td>\n",
       "      <td>-0.902951</td>\n",
       "      <td>-0.803263</td>\n",
       "      <td>-0.502267</td>\n",
       "      <td>0</td>\n",
       "      <td>0.857728</td>\n",
       "      <td>-0.366848</td>\n",
       "      <td>0</td>\n",
       "      <td>0.078282</td>\n",
       "      <td>-0.590322</td>\n",
       "      <td>-0.740953</td>\n",
       "      <td>1.081641</td>\n",
       "    </tr>\n",
       "    <tr>\n",
       "      <th>973</th>\n",
       "      <td>-0.411524</td>\n",
       "      <td>1</td>\n",
       "      <td>1.050038</td>\n",
       "      <td>-0.401511</td>\n",
       "      <td>-0.000189</td>\n",
       "      <td>1</td>\n",
       "      <td>-1.017245</td>\n",
       "      <td>0.754814</td>\n",
       "      <td>0</td>\n",
       "      <td>1.085069</td>\n",
       "      <td>-0.590322</td>\n",
       "      <td>-0.740953</td>\n",
       "      <td>-0.534060</td>\n",
       "    </tr>\n",
       "  </tbody>\n",
       "</table>\n",
       "</div>"
      ],
      "text/plain": [
       "          age  sex        cp  trestbps      chol  fbs   restecg   thalach  \\\n",
       "960 -0.300054    0  1.050038  0.229812 -0.946412    0 -1.017245  0.884237   \n",
       "48   1.260536    0  1.050038  0.803743  0.637064    0 -1.017245  0.150843   \n",
       "886  0.703183    1 -0.902951 -0.688476  0.289472    0  0.857728 -0.366848   \n",
       "981 -1.749173    1 -0.902951 -0.803263 -0.502267    0  0.857728 -0.366848   \n",
       "973 -0.411524    1  1.050038 -0.401511 -0.000189    1 -1.017245  0.754814   \n",
       "\n",
       "     exang   oldpeak     slope        ca      thal  \n",
       "960      0 -0.844605 -0.590322 -0.740953 -0.534060  \n",
       "48       0 -0.928504 -0.590322  0.189455 -0.534060  \n",
       "886      1  2.091855 -0.590322  0.189455  1.081641  \n",
       "981      0  0.078282 -0.590322 -0.740953  1.081641  \n",
       "973      0  1.085069 -0.590322 -0.740953 -0.534060  "
      ]
     },
     "execution_count": 174,
     "metadata": {},
     "output_type": "execute_result"
    }
   ],
   "source": [
    "#Scaling\n",
    "\n",
    "X_test[scaling_cols] = scaler.transform(X_test[scaling_cols])\n",
    "X_test.head()"
   ]
  },
  {
   "cell_type": "code",
   "execution_count": 175,
   "id": "44bc8b9b",
   "metadata": {},
   "outputs": [],
   "source": [
    "X_test_sm = sm.add_constant(X_test)"
   ]
  },
  {
   "cell_type": "code",
   "execution_count": 176,
   "id": "9d89f28e",
   "metadata": {},
   "outputs": [
    {
     "data": {
      "text/plain": [
       "960    0.974543\n",
       "48     0.885212\n",
       "886    0.010734\n",
       "981    0.263474\n",
       "973    0.680279\n",
       "         ...   \n",
       "904    0.854853\n",
       "946    0.969017\n",
       "203    0.584724\n",
       "868    0.747506\n",
       "433    0.539758\n",
       "Length: 308, dtype: float64"
      ]
     },
     "execution_count": 176,
     "metadata": {},
     "output_type": "execute_result"
    }
   ],
   "source": [
    "y_test_pred = model.predict(X_test_sm)\n",
    "y_test_pred"
   ]
  },
  {
   "cell_type": "markdown",
   "id": "38a18fb3",
   "metadata": {},
   "source": [
    "__Finding Optimal Cutoff : Sensitivity-Specificity Trade-off__"
   ]
  },
  {
   "cell_type": "code",
   "execution_count": 177,
   "id": "03109fe3",
   "metadata": {},
   "outputs": [
    {
     "data": {
      "text/html": [
       "<div>\n",
       "<style scoped>\n",
       "    .dataframe tbody tr th:only-of-type {\n",
       "        vertical-align: middle;\n",
       "    }\n",
       "\n",
       "    .dataframe tbody tr th {\n",
       "        vertical-align: top;\n",
       "    }\n",
       "\n",
       "    .dataframe thead th {\n",
       "        text-align: right;\n",
       "    }\n",
       "</style>\n",
       "<table border=\"1\" class=\"dataframe\">\n",
       "  <thead>\n",
       "    <tr style=\"text-align: right;\">\n",
       "      <th></th>\n",
       "      <th>Target_Actual</th>\n",
       "      <th>Target_Probability</th>\n",
       "      <th>PatientID</th>\n",
       "    </tr>\n",
       "  </thead>\n",
       "  <tbody>\n",
       "    <tr>\n",
       "      <th>960</th>\n",
       "      <td>1</td>\n",
       "      <td>0.974543</td>\n",
       "      <td>960</td>\n",
       "    </tr>\n",
       "    <tr>\n",
       "      <th>48</th>\n",
       "      <td>1</td>\n",
       "      <td>0.885212</td>\n",
       "      <td>48</td>\n",
       "    </tr>\n",
       "    <tr>\n",
       "      <th>886</th>\n",
       "      <td>0</td>\n",
       "      <td>0.010734</td>\n",
       "      <td>886</td>\n",
       "    </tr>\n",
       "    <tr>\n",
       "      <th>981</th>\n",
       "      <td>0</td>\n",
       "      <td>0.263474</td>\n",
       "      <td>981</td>\n",
       "    </tr>\n",
       "    <tr>\n",
       "      <th>973</th>\n",
       "      <td>1</td>\n",
       "      <td>0.680279</td>\n",
       "      <td>973</td>\n",
       "    </tr>\n",
       "  </tbody>\n",
       "</table>\n",
       "</div>"
      ],
      "text/plain": [
       "     Target_Actual  Target_Probability  PatientID\n",
       "960              1            0.974543        960\n",
       "48               1            0.885212         48\n",
       "886              0            0.010734        886\n",
       "981              0            0.263474        981\n",
       "973              1            0.680279        973"
      ]
     },
     "execution_count": 177,
     "metadata": {},
     "output_type": "execute_result"
    }
   ],
   "source": [
    "Result_DataFrame_test = pd.DataFrame({'Target_Actual':y_test.values,'Target_Probability': y_test_pred})\n",
    "Result_DataFrame_test['PatientID'] = y_test.index\n",
    "Result_DataFrame_test.head()"
   ]
  },
  {
   "cell_type": "code",
   "execution_count": 178,
   "id": "59423d7b",
   "metadata": {},
   "outputs": [
    {
     "data": {
      "text/html": [
       "<div>\n",
       "<style scoped>\n",
       "    .dataframe tbody tr th:only-of-type {\n",
       "        vertical-align: middle;\n",
       "    }\n",
       "\n",
       "    .dataframe tbody tr th {\n",
       "        vertical-align: top;\n",
       "    }\n",
       "\n",
       "    .dataframe thead th {\n",
       "        text-align: right;\n",
       "    }\n",
       "</style>\n",
       "<table border=\"1\" class=\"dataframe\">\n",
       "  <thead>\n",
       "    <tr style=\"text-align: right;\">\n",
       "      <th></th>\n",
       "      <th>Target_Actual</th>\n",
       "      <th>Target_Probability</th>\n",
       "      <th>PatientID</th>\n",
       "      <th>0.0</th>\n",
       "      <th>0.1</th>\n",
       "      <th>0.2</th>\n",
       "      <th>0.3</th>\n",
       "      <th>0.4</th>\n",
       "      <th>0.5</th>\n",
       "      <th>0.6</th>\n",
       "      <th>0.7</th>\n",
       "      <th>0.8</th>\n",
       "      <th>0.9</th>\n",
       "      <th>1.0</th>\n",
       "    </tr>\n",
       "  </thead>\n",
       "  <tbody>\n",
       "    <tr>\n",
       "      <th>960</th>\n",
       "      <td>1</td>\n",
       "      <td>0.974543</td>\n",
       "      <td>960</td>\n",
       "      <td>1</td>\n",
       "      <td>1</td>\n",
       "      <td>1</td>\n",
       "      <td>1</td>\n",
       "      <td>1</td>\n",
       "      <td>1</td>\n",
       "      <td>1</td>\n",
       "      <td>1</td>\n",
       "      <td>1</td>\n",
       "      <td>1</td>\n",
       "      <td>0</td>\n",
       "    </tr>\n",
       "    <tr>\n",
       "      <th>48</th>\n",
       "      <td>1</td>\n",
       "      <td>0.885212</td>\n",
       "      <td>48</td>\n",
       "      <td>1</td>\n",
       "      <td>1</td>\n",
       "      <td>1</td>\n",
       "      <td>1</td>\n",
       "      <td>1</td>\n",
       "      <td>1</td>\n",
       "      <td>1</td>\n",
       "      <td>1</td>\n",
       "      <td>1</td>\n",
       "      <td>0</td>\n",
       "      <td>0</td>\n",
       "    </tr>\n",
       "    <tr>\n",
       "      <th>886</th>\n",
       "      <td>0</td>\n",
       "      <td>0.010734</td>\n",
       "      <td>886</td>\n",
       "      <td>1</td>\n",
       "      <td>0</td>\n",
       "      <td>0</td>\n",
       "      <td>0</td>\n",
       "      <td>0</td>\n",
       "      <td>0</td>\n",
       "      <td>0</td>\n",
       "      <td>0</td>\n",
       "      <td>0</td>\n",
       "      <td>0</td>\n",
       "      <td>0</td>\n",
       "    </tr>\n",
       "    <tr>\n",
       "      <th>981</th>\n",
       "      <td>0</td>\n",
       "      <td>0.263474</td>\n",
       "      <td>981</td>\n",
       "      <td>1</td>\n",
       "      <td>1</td>\n",
       "      <td>1</td>\n",
       "      <td>0</td>\n",
       "      <td>0</td>\n",
       "      <td>0</td>\n",
       "      <td>0</td>\n",
       "      <td>0</td>\n",
       "      <td>0</td>\n",
       "      <td>0</td>\n",
       "      <td>0</td>\n",
       "    </tr>\n",
       "    <tr>\n",
       "      <th>973</th>\n",
       "      <td>1</td>\n",
       "      <td>0.680279</td>\n",
       "      <td>973</td>\n",
       "      <td>1</td>\n",
       "      <td>1</td>\n",
       "      <td>1</td>\n",
       "      <td>1</td>\n",
       "      <td>1</td>\n",
       "      <td>1</td>\n",
       "      <td>1</td>\n",
       "      <td>0</td>\n",
       "      <td>0</td>\n",
       "      <td>0</td>\n",
       "      <td>0</td>\n",
       "    </tr>\n",
       "  </tbody>\n",
       "</table>\n",
       "</div>"
      ],
      "text/plain": [
       "     Target_Actual  Target_Probability  PatientID  0.0  0.1  0.2  0.3  0.4  \\\n",
       "960              1            0.974543        960    1    1    1    1    1   \n",
       "48               1            0.885212         48    1    1    1    1    1   \n",
       "886              0            0.010734        886    1    0    0    0    0   \n",
       "981              0            0.263474        981    1    1    1    0    0   \n",
       "973              1            0.680279        973    1    1    1    1    1   \n",
       "\n",
       "     0.5  0.6  0.7  0.8  0.9  1.0  \n",
       "960    1    1    1    1    1    0  \n",
       "48     1    1    1    1    0    0  \n",
       "886    0    0    0    0    0    0  \n",
       "981    0    0    0    0    0    0  \n",
       "973    1    1    0    0    0    0  "
      ]
     },
     "execution_count": 178,
     "metadata": {},
     "output_type": "execute_result"
    }
   ],
   "source": [
    "for i in cutoffs:\n",
    "    Result_DataFrame_test[i] = Result_DataFrame_test.Target_Probability.map(lambda x: 1 if x>i else 0)\n",
    "\n",
    "Result_DataFrame_test.head()  "
   ]
  },
  {
   "cell_type": "code",
   "execution_count": 179,
   "id": "72416035",
   "metadata": {},
   "outputs": [],
   "source": [
    "cutoff_df_test = pd.DataFrame(columns = ['cutoff','accuracy','sensitivity','specificity'])\n",
    "\n",
    "num = cutoffs[0:-1]\n",
    "for i in num:\n",
    "    cm = metrics.confusion_matrix(Result_DataFrame_test.Target_Actual,Result_DataFrame_test[i])\n",
    "    total = sum(sum(cm))\n",
    "    accuracy = (cm[0,0]+cm[1,1])/total\n",
    "    sensi = cm[1,1]/(cm[1,1]+cm[1,0])\n",
    "    speci = cm[0,0]/(cm[0,0]+cm[0,1])\n",
    "    \n",
    "    cutoff_df_test.loc[i] = [i, accuracy, sensi, speci]"
   ]
  },
  {
   "cell_type": "code",
   "execution_count": 180,
   "id": "46859400",
   "metadata": {},
   "outputs": [
    {
     "data": {
      "text/html": [
       "<div>\n",
       "<style scoped>\n",
       "    .dataframe tbody tr th:only-of-type {\n",
       "        vertical-align: middle;\n",
       "    }\n",
       "\n",
       "    .dataframe tbody tr th {\n",
       "        vertical-align: top;\n",
       "    }\n",
       "\n",
       "    .dataframe thead th {\n",
       "        text-align: right;\n",
       "    }\n",
       "</style>\n",
       "<table border=\"1\" class=\"dataframe\">\n",
       "  <thead>\n",
       "    <tr style=\"text-align: right;\">\n",
       "      <th></th>\n",
       "      <th>cutoff</th>\n",
       "      <th>accuracy</th>\n",
       "      <th>sensitivity</th>\n",
       "      <th>specificity</th>\n",
       "    </tr>\n",
       "  </thead>\n",
       "  <tbody>\n",
       "    <tr>\n",
       "      <th>0.0</th>\n",
       "      <td>0.0</td>\n",
       "      <td>0.545455</td>\n",
       "      <td>1.000000</td>\n",
       "      <td>0.000000</td>\n",
       "    </tr>\n",
       "    <tr>\n",
       "      <th>0.1</th>\n",
       "      <td>0.1</td>\n",
       "      <td>0.750000</td>\n",
       "      <td>0.976190</td>\n",
       "      <td>0.478571</td>\n",
       "    </tr>\n",
       "    <tr>\n",
       "      <th>0.2</th>\n",
       "      <td>0.2</td>\n",
       "      <td>0.808442</td>\n",
       "      <td>0.970238</td>\n",
       "      <td>0.614286</td>\n",
       "    </tr>\n",
       "    <tr>\n",
       "      <th>0.3</th>\n",
       "      <td>0.3</td>\n",
       "      <td>0.850649</td>\n",
       "      <td>0.970238</td>\n",
       "      <td>0.707143</td>\n",
       "    </tr>\n",
       "    <tr>\n",
       "      <th>0.4</th>\n",
       "      <td>0.4</td>\n",
       "      <td>0.853896</td>\n",
       "      <td>0.946429</td>\n",
       "      <td>0.742857</td>\n",
       "    </tr>\n",
       "    <tr>\n",
       "      <th>0.5</th>\n",
       "      <td>0.5</td>\n",
       "      <td>0.866883</td>\n",
       "      <td>0.940476</td>\n",
       "      <td>0.778571</td>\n",
       "    </tr>\n",
       "    <tr>\n",
       "      <th>0.6</th>\n",
       "      <td>0.6</td>\n",
       "      <td>0.844156</td>\n",
       "      <td>0.857143</td>\n",
       "      <td>0.828571</td>\n",
       "    </tr>\n",
       "    <tr>\n",
       "      <th>0.7</th>\n",
       "      <td>0.7</td>\n",
       "      <td>0.792208</td>\n",
       "      <td>0.720238</td>\n",
       "      <td>0.878571</td>\n",
       "    </tr>\n",
       "    <tr>\n",
       "      <th>0.8</th>\n",
       "      <td>0.8</td>\n",
       "      <td>0.740260</td>\n",
       "      <td>0.571429</td>\n",
       "      <td>0.942857</td>\n",
       "    </tr>\n",
       "    <tr>\n",
       "      <th>0.9</th>\n",
       "      <td>0.9</td>\n",
       "      <td>0.678571</td>\n",
       "      <td>0.410714</td>\n",
       "      <td>1.000000</td>\n",
       "    </tr>\n",
       "  </tbody>\n",
       "</table>\n",
       "</div>"
      ],
      "text/plain": [
       "     cutoff  accuracy  sensitivity  specificity\n",
       "0.0     0.0  0.545455     1.000000     0.000000\n",
       "0.1     0.1  0.750000     0.976190     0.478571\n",
       "0.2     0.2  0.808442     0.970238     0.614286\n",
       "0.3     0.3  0.850649     0.970238     0.707143\n",
       "0.4     0.4  0.853896     0.946429     0.742857\n",
       "0.5     0.5  0.866883     0.940476     0.778571\n",
       "0.6     0.6  0.844156     0.857143     0.828571\n",
       "0.7     0.7  0.792208     0.720238     0.878571\n",
       "0.8     0.8  0.740260     0.571429     0.942857\n",
       "0.9     0.9  0.678571     0.410714     1.000000"
      ]
     },
     "execution_count": 180,
     "metadata": {},
     "output_type": "execute_result"
    }
   ],
   "source": [
    "cutoff_df_test"
   ]
  },
  {
   "cell_type": "code",
   "execution_count": 181,
   "id": "4c32bd8f",
   "metadata": {},
   "outputs": [
    {
     "data": {
      "image/png": "[encoded data removed]",
      "text/plain": [
       "<Figure size 432x288 with 1 Axes>"
      ]
     },
     "metadata": {
      "needs_background": "light"
     },
     "output_type": "display_data"
    }
   ],
   "source": [
    "cutoff_df_test.plot.line(x='cutoff',y=['accuracy','sensitivity','specificity'])\n",
    "plt.show()"
   ]
  },
  {
   "cell_type": "markdown",
   "id": "29a093a9",
   "metadata": {},
   "source": [
    "__0.62 Looks optimal cutoff__"
   ]
  },
  {
   "cell_type": "code",
   "execution_count": 182,
   "id": "5f2841ea",
   "metadata": {},
   "outputs": [
    {
     "data": {
      "text/html": [
       "<div>\n",
       "<style scoped>\n",
       "    .dataframe tbody tr th:only-of-type {\n",
       "        vertical-align: middle;\n",
       "    }\n",
       "\n",
       "    .dataframe tbody tr th {\n",
       "        vertical-align: top;\n",
       "    }\n",
       "\n",
       "    .dataframe thead th {\n",
       "        text-align: right;\n",
       "    }\n",
       "</style>\n",
       "<table border=\"1\" class=\"dataframe\">\n",
       "  <thead>\n",
       "    <tr style=\"text-align: right;\">\n",
       "      <th></th>\n",
       "      <th>Target_Actual</th>\n",
       "      <th>Target_Probability</th>\n",
       "      <th>PatientID</th>\n",
       "      <th>0.0</th>\n",
       "      <th>0.1</th>\n",
       "      <th>0.2</th>\n",
       "      <th>0.3</th>\n",
       "      <th>0.4</th>\n",
       "      <th>0.5</th>\n",
       "      <th>0.6</th>\n",
       "      <th>0.7</th>\n",
       "      <th>0.8</th>\n",
       "      <th>0.9</th>\n",
       "      <th>1.0</th>\n",
       "      <th>Target_Predicted</th>\n",
       "    </tr>\n",
       "  </thead>\n",
       "  <tbody>\n",
       "    <tr>\n",
       "      <th>960</th>\n",
       "      <td>1</td>\n",
       "      <td>0.974543</td>\n",
       "      <td>960</td>\n",
       "      <td>1</td>\n",
       "      <td>1</td>\n",
       "      <td>1</td>\n",
       "      <td>1</td>\n",
       "      <td>1</td>\n",
       "      <td>1</td>\n",
       "      <td>1</td>\n",
       "      <td>1</td>\n",
       "      <td>1</td>\n",
       "      <td>1</td>\n",
       "      <td>0</td>\n",
       "      <td>1</td>\n",
       "    </tr>\n",
       "    <tr>\n",
       "      <th>48</th>\n",
       "      <td>1</td>\n",
       "      <td>0.885212</td>\n",
       "      <td>48</td>\n",
       "      <td>1</td>\n",
       "      <td>1</td>\n",
       "      <td>1</td>\n",
       "      <td>1</td>\n",
       "      <td>1</td>\n",
       "      <td>1</td>\n",
       "      <td>1</td>\n",
       "      <td>1</td>\n",
       "      <td>1</td>\n",
       "      <td>0</td>\n",
       "      <td>0</td>\n",
       "      <td>1</td>\n",
       "    </tr>\n",
       "    <tr>\n",
       "      <th>886</th>\n",
       "      <td>0</td>\n",
       "      <td>0.010734</td>\n",
       "      <td>886</td>\n",
       "      <td>1</td>\n",
       "      <td>0</td>\n",
       "      <td>0</td>\n",
       "      <td>0</td>\n",
       "      <td>0</td>\n",
       "      <td>0</td>\n",
       "      <td>0</td>\n",
       "      <td>0</td>\n",
       "      <td>0</td>\n",
       "      <td>0</td>\n",
       "      <td>0</td>\n",
       "      <td>0</td>\n",
       "    </tr>\n",
       "    <tr>\n",
       "      <th>981</th>\n",
       "      <td>0</td>\n",
       "      <td>0.263474</td>\n",
       "      <td>981</td>\n",
       "      <td>1</td>\n",
       "      <td>1</td>\n",
       "      <td>1</td>\n",
       "      <td>0</td>\n",
       "      <td>0</td>\n",
       "      <td>0</td>\n",
       "      <td>0</td>\n",
       "      <td>0</td>\n",
       "      <td>0</td>\n",
       "      <td>0</td>\n",
       "      <td>0</td>\n",
       "      <td>0</td>\n",
       "    </tr>\n",
       "    <tr>\n",
       "      <th>973</th>\n",
       "      <td>1</td>\n",
       "      <td>0.680279</td>\n",
       "      <td>973</td>\n",
       "      <td>1</td>\n",
       "      <td>1</td>\n",
       "      <td>1</td>\n",
       "      <td>1</td>\n",
       "      <td>1</td>\n",
       "      <td>1</td>\n",
       "      <td>1</td>\n",
       "      <td>0</td>\n",
       "      <td>0</td>\n",
       "      <td>0</td>\n",
       "      <td>0</td>\n",
       "      <td>1</td>\n",
       "    </tr>\n",
       "  </tbody>\n",
       "</table>\n",
       "</div>"
      ],
      "text/plain": [
       "     Target_Actual  Target_Probability  PatientID  0.0  0.1  0.2  0.3  0.4  \\\n",
       "960              1            0.974543        960    1    1    1    1    1   \n",
       "48               1            0.885212         48    1    1    1    1    1   \n",
       "886              0            0.010734        886    1    0    0    0    0   \n",
       "981              0            0.263474        981    1    1    1    0    0   \n",
       "973              1            0.680279        973    1    1    1    1    1   \n",
       "\n",
       "     0.5  0.6  0.7  0.8  0.9  1.0  Target_Predicted  \n",
       "960    1    1    1    1    1    0                 1  \n",
       "48     1    1    1    1    0    0                 1  \n",
       "886    0    0    0    0    0    0                 0  \n",
       "981    0    0    0    0    0    0                 0  \n",
       "973    1    1    0    0    0    0                 1  "
      ]
     },
     "execution_count": 182,
     "metadata": {},
     "output_type": "execute_result"
    }
   ],
   "source": [
    "Result_DataFrame_test['Target_Predicted'] = Result_DataFrame_test.Target_Probability.map(lambda x: 1 if x > 0.62 else 0)\n",
    "Result_DataFrame_test.head()"
   ]
  },
  {
   "cell_type": "code",
   "execution_count": 183,
   "id": "ba136d5f",
   "metadata": {},
   "outputs": [
    {
     "data": {
      "text/plain": [
       "array([[116,  24],\n",
       "       [ 26, 142]], dtype=int64)"
      ]
     },
     "execution_count": 183,
     "metadata": {},
     "output_type": "execute_result"
    }
   ],
   "source": [
    "confusion_test = metrics.confusion_matrix(Result_DataFrame_test.Target_Actual,Result_DataFrame_test.Target_Predicted)\n",
    "confusion_test"
   ]
  },
  {
   "cell_type": "code",
   "execution_count": 184,
   "id": "c7828301",
   "metadata": {},
   "outputs": [],
   "source": [
    "TP = confusion_test[1,1] #true positive\n",
    "TN = confusion_test[0,0] #true negative\n",
    "FP = confusion_test[0,1] #false positive\n",
    "FN = confusion_test[1,0] #false negative"
   ]
  },
  {
   "cell_type": "code",
   "execution_count": 185,
   "id": "26cef4d7",
   "metadata": {},
   "outputs": [
    {
     "data": {
      "text/plain": [
       "27.0"
      ]
     },
     "execution_count": 185,
     "metadata": {},
     "output_type": "execute_result"
    }
   ],
   "source": [
    "#Sensitivity score\n",
    "TP/TP+FN"
   ]
  },
  {
   "cell_type": "code",
   "execution_count": 186,
   "id": "1005c0cc",
   "metadata": {},
   "outputs": [
    {
     "data": {
      "text/plain": [
       "25.0"
      ]
     },
     "execution_count": 186,
     "metadata": {},
     "output_type": "execute_result"
    }
   ],
   "source": [
    "#Specificity Score\n",
    "TN/TN+FP"
   ]
  },
  {
   "cell_type": "code",
   "execution_count": 187,
   "id": "01a765a3",
   "metadata": {},
   "outputs": [
    {
     "data": {
      "text/plain": [
       "25.0"
      ]
     },
     "execution_count": 187,
     "metadata": {},
     "output_type": "execute_result"
    }
   ],
   "source": [
    "#Precision\n",
    "TP/TP+FP"
   ]
  },
  {
   "cell_type": "code",
   "execution_count": 188,
   "id": "3968b011",
   "metadata": {},
   "outputs": [
    {
     "data": {
      "text/plain": [
       "0.8376623376623377"
      ]
     },
     "execution_count": 188,
     "metadata": {},
     "output_type": "execute_result"
    }
   ],
   "source": [
    "#Accuracy\n",
    "metrics.accuracy_score(Result_DataFrame_test.Target_Actual,Result_DataFrame_test.Target_Predicted)"
   ]
  },
  {
   "cell_type": "code",
   "execution_count": 189,
   "id": "ce26f334",
   "metadata": {},
   "outputs": [
    {
     "data": {
      "text/plain": [
       "Index(['const', 'age', 'sex', 'cp', 'trestbps', 'chol', 'fbs', 'restecg',\n",
       "       'thalach', 'exang', 'oldpeak', 'slope', 'ca', 'thal'],\n",
       "      dtype='object')"
      ]
     },
     "execution_count": 189,
     "metadata": {},
     "output_type": "execute_result"
    }
   ],
   "source": [
    "X_test_sm.columns"
   ]
  },
  {
   "cell_type": "markdown",
   "id": "9daf5266",
   "metadata": {},
   "source": [
    "__So our Model can accurately predict if the patient has Heart Disease or not with approx 84% accuracy__"
   ]
  },
  {
   "cell_type": "markdown",
   "id": "b4cbf161",
   "metadata": {},
   "source": [
    "# Building a Responsive system for End-User"
   ]
  },
  {
   "cell_type": "code",
   "execution_count": 190,
   "id": "08267a55",
   "metadata": {},
   "outputs": [
    {
     "name": "stdout",
     "output_type": "stream",
     "text": [
      "Please enter the parameteric details in the given order:\n",
      "1, age sex(1 or 0, 1 being male), chest_pain(1to4), blood_pressure, cholestrol in mg/dl, sugar_level,ecgresults(0,1,2), max_heart_rate, exercise induced angina, oldpeak slope, no of vessels, thal(0,1,2),\n",
      "Sample: (1,41,0,1,130,204,0,0,172,0,1.4,2,0,2)\n"
     ]
    }
   ],
   "source": [
    "print('Please enter the parameteric details in the given order:\\n'\n",
    "                      '1,','age','sex(1 or 0, 1 being male),','chest_pain(1to4),','blood_pressure,','cholestrol in mg/dl,','sugar_level,'\n",
    "                      'ecgresults(0,1,2),','max_heart_rate,','exercise induced angina,','oldpeak','slope,','no of vessels,','thal(0,1,2),')\n",
    "print('Sample: (1,41,0,1,130,204,0,0,172,0,1.4,2,0,2)')"
   ]
  },
  {
   "cell_type": "code",
   "execution_count": 191,
   "id": "dd5f56e5",
   "metadata": {},
   "outputs": [],
   "source": [
    "def predict_disease(user_input=((1,41,0,1,130,204,0,0,172,0,1.4,2,0,2))):\n",
    "    try:  \n",
    "        user_input = ast.literal_eval(input())\n",
    "     \n",
    "    except:\n",
    "        user_input = (1,41,0,1,130,204,0,0,172,0,1.4,2,0,2)\n",
    "    \n",
    "    userdata=user_input\n",
    "    prediction = model.predict(userdata)\n",
    "    \n",
    "    if prediction > 0.62:\n",
    "\n",
    "        return print('1 : You are suffering from a Heart Disease')\n",
    "    else:\n",
    "        return print('0 : You are NOT suffering from a Heart Disease')"
   ]
  },
  {
   "cell_type": "code",
   "execution_count": 192,
   "id": "26372814",
   "metadata": {},
   "outputs": [
    {
     "name": "stdout",
     "output_type": "stream",
     "text": [
      "(1,41,0,1,130,204,0,0,172,0,1.4,2,0,2)\n",
      "0 : You are NOT suffering from a Heart Disease\n"
     ]
    }
   ],
   "source": [
    "predict_disease()"
   ]
  },
  {
   "cell_type": "code",
   "execution_count": null,
   "id": "ccd8df11",
   "metadata": {},
   "outputs": [],
   "source": []
  }
 ],
 "metadata": {
  "kernelspec": {
   "display_name": "Python 3 (ipykernel)",
   "language": "python",
   "name": "python3"
  },
  "language_info": {
   "codemirror_mode": {
    "name": "ipython",
    "version": 3
   },
   "file_extension": ".py",
   "mimetype": "text/x-python",
   "name": "python",
   "nbconvert_exporter": "python",
   "pygments_lexer": "ipython3",
   "version": "3.9.6"
  }
 },
 "nbformat": 4,
 "nbformat_minor": 5
}
